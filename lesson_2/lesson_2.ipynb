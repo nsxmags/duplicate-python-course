{
 "cells": [
  {
   "cell_type": "markdown",
   "metadata": {},
   "source": [
    "# Lesson 2 - Intermediate Python for Data Analytics"
   ]
  },
  {
   "cell_type": "markdown",
   "metadata": {},
   "source": [
    "![da](https://miro.medium.com/max/800/0*o4HM8Tk9PHJUyuei.jpg)"
   ]
  },
  {
   "cell_type": "markdown",
   "metadata": {},
   "source": [
    "# Welcome"
   ]
  },
  {
   "cell_type": "markdown",
   "metadata": {},
   "source": [
    "I. Recap of lesson 1  \n",
    "II. Learning Outcomes  \n",
    "\n",
    "\n",
    "__Outline for the session:__\n",
    "\n",
    "1. List, Arrays, and Matrices  \n",
    "2. Intro to Numpy  \n",
    "3. Computations with NumPy\n",
    "4. More on control flow\n",
    "    1. Conditional statements\n",
    "    2. Functions\n",
    "    3. Loops  \n",
    "    4. List Comprehensions\n",
    "5. Summary\n",
    "6. References\n",
    "7. Feedback"
   ]
  },
  {
   "cell_type": "markdown",
   "metadata": {},
   "source": [
    "# I. Recap of Lesson 1"
   ]
  },
  {
   "cell_type": "markdown",
   "metadata": {},
   "source": [
    "Let's begin by summarising what we learned in lesson 1.\n",
    "\n",
    "1. Data types help us have a clear view of the information we are dealing with. They can be `int`, `string`, `float`, or `booleans`.\n",
    "2. Data structures allow us to hold information in different formats and in different ways. The data structures we have at our disposal are `dictionaries`, `tuples`, `lists`, and `sets`.\n",
    "    - Dictionaries are key-value pair data structures that can hold multiple bits of information for us and does not follow the same convention or strictness of other data types/structures and variables. Dictionaries are also mutable (a.k.a. the values they hold for us can be changed).\n",
    "    - Lists are the most versatile data structure in Python, they can hold all sorts of data types --and structures-- and are also mutable.\n",
    "    - Tuples are lists cousins, but that they don't like change and are immutable.\n",
    "    - Sets are like tuples, except that sets don't like to hold two of the same data twice (i.e. they don't like to have duplicates).\n",
    "3. Variables are buckets that hold specific objects for us. They can only have letters, numbers, and underscores for their names. They cannot begin with a number, and they have to be followed by an equal (`=`) sign that represents assignment.\n",
    "4. There are several ways for printing in Python, and we will use all of these throughout the course.\n",
    "    - `print(f\"Something {cool}\")`\n",
    "    - `print(\"Something {}\".format(\"cool\"))`\n",
    "    - `print(\"This is cool too!\")`\n",
    "    - `print(\"This is even %s!\" % \"cooler\")`\n",
    "5. Math symbols you should always remember.\n",
    "\n",
    "| Operator | What this does! |\n",
    "|------|---------------------|\n",
    "|  ==  |  Exactly Equals     |\n",
    "|  \\+  |  Addition           |\n",
    "|  \\-  |  Subtraction        |\n",
    "|  \\*  |  Multiplication     |\n",
    "|  \\** |  Exponentiation     |\n",
    "|  \\/  |  Division           |\n",
    "|   %  |  Modulo or remainder|\n",
    "|  //  |  Floor division     |  \n",
    "\n",
    "6. Importing packages conventions.  \n",
    "\n",
    "```python \n",
    "\n",
    "   import package  #import an entire package and access its element with a .some_package()\n",
    "   \n",
    "   import package as pk # give your package a nickname\n",
    "\n",
    "   from package import a_function # import a specific instance of that package you want/need\n",
    "```  \n",
    "\n",
    "7. Installing packages. Remember to use a `!` before a shell command when installing a package from a notebook.  \n",
    "\n",
    "```shell  \n",
    "\n",
    "   pip install package # Python's own package manager\n",
    "   conda install -c anaconda statsmodels # Anaconda's package manager\n",
    "```  \n",
    "\n",
    "8. Loops help us do tasks repeatedly. The `a_var` below can be any word or letter we'd like.\n",
    "\n",
    "```python\n",
    "    for a_var in a_list:\n",
    "        \"\"\"\n",
    "        Something to do all a_var's\n",
    "        inside a_list    \n",
    "        \"\"\"\n",
    "        print(a_var)\n",
    "```  \n",
    "\n",
    "9. `if-else` statements allow us to do operations based on logical statements that evaluate to True or False.  \n",
    "\n",
    "```python\n",
    "\n",
    "    if 2 + 2 == 4:\n",
    "        print(\"Yay, I knew it :)\")\n",
    "    else:\n",
    "        print(\"Oopss, let me revisit this one first\")\n",
    "```  \n",
    "\n",
    "10. Functions help us save time by allowing us to package simple-to-complex operations into one place. They follow the DRY convention, which stands for \"Don't Repeat Yourself.\"\n",
    "\n",
    "```python\n",
    "    def do_something_cool(name, age): # here you define your function and the inputs it should take\n",
    "        print(f\"My name is {name}\") # here\n",
    "        new_age = age + 1 # and here\n",
    "        print(f\"and next year I will be {new_age} years old!\") # and here, you do something with your inputs\n",
    "        \n",
    "    do_something_cool(name=\"Natasha\", age=35) # now test your function with some data\n",
    "```"
   ]
  },
  {
   "cell_type": "markdown",
   "metadata": {},
   "source": [
    "# II. Learning Outcomes"
   ]
  },
  {
   "cell_type": "markdown",
   "metadata": {},
   "source": [
    "By the end of this lesson you will have:\n",
    "\n",
    "1. Learned about how to do computations with arrays and matrices\n",
    "2. Learned the basics of NumPy\n",
    "3. Solidified your knowledge of loops, if-else statements, and functions\n",
    "4. Learned the basics of how to load data into Python\n",
    "5. A working knowledge of why we store data using different formats and when to use which"
   ]
  },
  {
   "cell_type": "markdown",
   "metadata": {},
   "source": [
    "# 1. Lists, Arrays, and Matrices"
   ]
  },
  {
   "cell_type": "markdown",
   "metadata": {},
   "source": [
    "`Arrays` in computer science and data analytics are collections (or `lists`) of elements that have an indext attached to them. Think of any of the spreadsheet tools you have used in the past, most of them probably had rows and columns (which are each arrays), and the combination of both, a cell or element, came with a row number (the indect), and a column letter (the name of the array). In Python, lists are our first representation of arrays and nested lists are our first representation of a `matrix` (e.g. the entire spreasheet).\n",
    "\n",
    "Let's dive a bit deeper into all of these."
   ]
  },
  {
   "cell_type": "markdown",
   "metadata": {},
   "source": [
    "# 1.1 Lists and Arrays"
   ]
  },
  {
   "cell_type": "markdown",
   "metadata": {},
   "source": [
    "In the previous lesson, we introduced lists as a highly useful data structure that allows us to have multiple data types and other data structures, in one place. This versitile functionality allow us to depend on lists for many simple and complex tasks, such as representing the rows and the columns of a spreadsheet.\n",
    "\n",
    "You can think of lists as either a row (a one dimensional array), or a column (another one dimensional array), or a combination of both (a two dimensional array). Just like a spreadsheet can hold text, numbers, and functions in a single cell, so can lists in Python but to an even larger extent.\n",
    "\n",
    "Remember, lists can be created with two square brackets `[]` or with the function `list()` (brackets is easier and faster), its elements have to be separated by commas, and you can always verify that the data type is correct by wrapping the `type()` function around your list.\n",
    "\n",
    "Let's look at some examples."
   ]
  },
  {
   "cell_type": "code",
   "execution_count": 1,
   "metadata": {
    "execution": {
     "iopub.execute_input": "2020-04-23T14:59:54.477Z",
     "iopub.status.busy": "2020-04-23T14:59:54.461Z",
     "iopub.status.idle": "2020-04-23T14:59:54.507Z",
     "shell.execute_reply": "2020-04-23T14:59:54.407Z"
    }
   },
   "outputs": [
    {
     "name": "stdout",
     "output_type": "stream",
     "text": [
      "['Amazon', 'Facebook', 'Google', 'Tesla', 'Apple', 'General Motors']\n",
      "<class 'list'>\n"
     ]
    }
   ],
   "source": [
    "companies = ['Amazon', 'Facebook', 'Google', 'Tesla', 'Apple', 'General Motors']\n",
    "year_founded = [1996, 1998, 2004, 2003, 1976, 1908]\n",
    "print(companies)\n",
    "print(type(year_founded))"
   ]
  },
  {
   "cell_type": "markdown",
   "metadata": {},
   "source": [
    "Now that we have two lists to work with, let's go over how to access the items in these arrays. Accessing items in lists or arrays is also called slicing. Think of this as slicing a cake, our intentions might be to eat a whole cake every time we see one (I definitely do), but most-often than not, one piece is all we need to enjoy the cake so the rest can be safely store in a new plate or container. For example:\n",
    "\n",
    "```python\n",
    "# Imagine we have a chocolate cake\n",
    "cake_slices = [1, 1, 1, 1, 1, 1, 1, 1] # with 8 slices\n",
    "slices_left = cake_slices[:6] # and we ate two in a sit\n",
    "print(sum(slices_left))\n",
    "# 6\n",
    "```\n",
    "\n",
    "Lists have what is called an index. Think of indexes as the numbers you will see in the rows of a spreadsheet and think of the variables as the letters of the columns. With that in mind, we know that Amazon in our companies list is at the beginning, hence, it has an index of 0. Remember, Python starts counting from 0.\n",
    "\n",
    "Let's access several elements to warm up."
   ]
  },
  {
   "cell_type": "code",
   "execution_count": 2,
   "metadata": {},
   "outputs": [
    {
     "data": {
      "text/plain": [
       "'Amazon'"
      ]
     },
     "execution_count": 2,
     "metadata": {},
     "output_type": "execute_result"
    }
   ],
   "source": [
    "companies[0]"
   ]
  },
  {
   "cell_type": "code",
   "execution_count": 3,
   "metadata": {},
   "outputs": [
    {
     "data": {
      "text/plain": [
       "1976"
      ]
     },
     "execution_count": 3,
     "metadata": {},
     "output_type": "execute_result"
    }
   ],
   "source": [
    "year_founded[4]"
   ]
  },
  {
   "cell_type": "markdown",
   "metadata": {},
   "source": [
    "To select a range of values in our list we can use a colon `:`, where the number on the left will be the starting point, and the number on the right the element our slice will go up to and not include. Slicing lists and other data structures in Python is, for the most part, always not-inclusive of the last term.\n",
    "\n",
    "We can also leave the right-hand side of the colon `[2:]` in our slice opened to signal that we want to select all of the values from our starting point and all the way to the end.\n",
    "\n",
    "The same happens when we do the opposite and provide an ending point but not a starting one, the slice will select all values from the beginning and up to, but not including, the number on the right of the column."
   ]
  },
  {
   "cell_type": "code",
   "execution_count": 4,
   "metadata": {},
   "outputs": [
    {
     "data": {
      "text/plain": [
       "[1996, 1998, 2004]"
      ]
     },
     "execution_count": 4,
     "metadata": {},
     "output_type": "execute_result"
    }
   ],
   "source": [
    "year_founded[0:3]"
   ]
  },
  {
   "cell_type": "code",
   "execution_count": 5,
   "metadata": {},
   "outputs": [
    {
     "data": {
      "text/plain": [
       "['Tesla', 'Apple', 'General Motors']"
      ]
     },
     "execution_count": 5,
     "metadata": {},
     "output_type": "execute_result"
    }
   ],
   "source": [
    "companies[3:]"
   ]
  },
  {
   "cell_type": "code",
   "execution_count": 6,
   "metadata": {},
   "outputs": [
    {
     "data": {
      "text/plain": [
       "[1996, 1998, 2004]"
      ]
     },
     "execution_count": 6,
     "metadata": {},
     "output_type": "execute_result"
    }
   ],
   "source": [
    "year_founded[:3]"
   ]
  },
  {
   "cell_type": "code",
   "execution_count": 7,
   "metadata": {},
   "outputs": [
    {
     "data": {
      "text/plain": [
       "[1996, 1998, 2004, 2003, 1976, 1908]"
      ]
     },
     "execution_count": 7,
     "metadata": {},
     "output_type": "execute_result"
    }
   ],
   "source": [
    "# if you try to access a range that doesn't match the length of the list,\n",
    "# you will get an all of the elements in the list and nothing more\n",
    "year_founded[0:10] # this list does not have 10 elements"
   ]
  },
  {
   "cell_type": "markdown",
   "metadata": {},
   "source": [
    "Sometimes, lists become quite long and it is difficult to see what's in between or at the end. To see the end on a list, we can use the the minus `-` with any number except zero, and Python will give us the adequate number for such location. For example, `-1` will be equal to the last element of the list, `-2` will be equal to the second to last, and so forth."
   ]
  },
  {
   "cell_type": "code",
   "execution_count": 8,
   "metadata": {},
   "outputs": [
    {
     "data": {
      "text/plain": [
       "'General Motors'"
      ]
     },
     "execution_count": 8,
     "metadata": {},
     "output_type": "execute_result"
    }
   ],
   "source": [
    "companies[-1]"
   ]
  },
  {
   "cell_type": "code",
   "execution_count": 9,
   "metadata": {},
   "outputs": [
    {
     "data": {
      "text/plain": [
       "'Apple'"
      ]
     },
     "execution_count": 9,
     "metadata": {},
     "output_type": "execute_result"
    }
   ],
   "source": [
    "companies[-2]"
   ]
  },
  {
   "cell_type": "markdown",
   "metadata": {},
   "source": [
    "You can also use negative indexes with slicers. Sometimes there is a very good reason to do so, e.g. with extremely long lists for which you know you need the last or second to last elements, other times, it might give you a headache to count that way."
   ]
  },
  {
   "cell_type": "code",
   "execution_count": 10,
   "metadata": {},
   "outputs": [
    {
     "data": {
      "text/plain": [
       "['Amazon', 'Facebook', 'Google', 'Tesla']"
      ]
     },
     "execution_count": 10,
     "metadata": {},
     "output_type": "execute_result"
    }
   ],
   "source": [
    "companies[:-2] # ignores the last two"
   ]
  },
  {
   "cell_type": "code",
   "execution_count": 11,
   "metadata": {},
   "outputs": [
    {
     "data": {
      "text/plain": [
       "['Tesla', 'Apple', 'General Motors']"
      ]
     },
     "execution_count": 11,
     "metadata": {},
     "output_type": "execute_result"
    }
   ],
   "source": [
    "companies[-3:] # starts from the third to last element and goes all the way to the end of the list"
   ]
  },
  {
   "cell_type": "markdown",
   "metadata": {},
   "source": [
    "We can append elements to a list or different lists together with a `+` sign or with the `.append()` method. "
   ]
  },
  {
   "cell_type": "code",
   "execution_count": 12,
   "metadata": {},
   "outputs": [
    {
     "name": "stdout",
     "output_type": "stream",
     "text": [
      "[1, 2, 3, 4]\n",
      "[5, 6, 7, 8]\n",
      "[1, 2, 3, 4, 5, 6, 7, 8]\n"
     ]
    }
   ],
   "source": [
    "a_list = [1, 2, 3, 4]\n",
    "b_list = [5, 6, 7, 8]\n",
    "\n",
    "c_list = a_list + b_list\n",
    "\n",
    "print(a_list)\n",
    "print(b_list)\n",
    "print(c_list)"
   ]
  },
  {
   "cell_type": "markdown",
   "metadata": {},
   "source": [
    "We can also create an empty list with the square brackets `[]` and `.append()` anything to it. This is done very often in Python and usually through loops."
   ]
  },
  {
   "cell_type": "code",
   "execution_count": 13,
   "metadata": {},
   "outputs": [
    {
     "name": "stdout",
     "output_type": "stream",
     "text": [
      "[3, 17, 25]\n"
     ]
    }
   ],
   "source": [
    "# Regular version\n",
    "d_list = [] # an empty list\n",
    "d_list.append(3)\n",
    "d_list.append(17)\n",
    "d_list.append(25)\n",
    "print(d_list)"
   ]
  },
  {
   "cell_type": "markdown",
   "metadata": {},
   "source": [
    "If we want to have the last value of our list removed, say we don't want to have General Motors in our companies list anymore but rather have Microsoft, we can use the method `.pop()`. You can use this method with an index value to indicate which element of your list you would like to see disappear, or you can choose to use it without any arguments and `.pop()` will remove the last element of the list.\n",
    "\n",
    "Let's first use `.pop()` without an index and then see what happens with an index."
   ]
  },
  {
   "cell_type": "code",
   "execution_count": 14,
   "metadata": {},
   "outputs": [
    {
     "name": "stdout",
     "output_type": "stream",
     "text": [
      "Before: ['Amazon', 'Facebook', 'Google', 'Tesla', 'Apple', 'General Motors']\n",
      "------------------------------------------------------------\n",
      "After: ['Amazon', 'Facebook', 'Google', 'Tesla', 'Apple']\n"
     ]
    }
   ],
   "source": [
    "# Without and index\n",
    "print(\"Before:\", companies)\n",
    "print(\"-\" * 60)\n",
    "companies.pop()\n",
    "print(\"After:\", companies)"
   ]
  },
  {
   "cell_type": "code",
   "execution_count": 15,
   "metadata": {},
   "outputs": [
    {
     "name": "stdout",
     "output_type": "stream",
     "text": [
      "Before: ['Amazon', 'Facebook', 'Google', 'Tesla', 'Apple']\n",
      "------------------------------------------------------------\n",
      "After: ['Amazon', 'Facebook', 'Google', 'Apple']\n"
     ]
    }
   ],
   "source": [
    "# With an index\n",
    "print(\"Before:\", companies)\n",
    "print(\"-\" * 60)\n",
    "companies.pop(3) # select the element at index 3\n",
    "print(\"After:\", companies)"
   ]
  },
  {
   "cell_type": "markdown",
   "metadata": {},
   "source": [
    "One last thing that is useful to know about `.pop()` is that the element that gets removed from the list can be immediately added to a variable."
   ]
  },
  {
   "cell_type": "code",
   "execution_count": 16,
   "metadata": {},
   "outputs": [
    {
     "name": "stdout",
     "output_type": "stream",
     "text": [
      "Before: ['Australia', 'New Zealand', 'Uganda', 'Portugal', 'Taiwan']\n",
      "----------------------------------------------------------------------\n",
      "After: ['Australia', 'New Zealand', 'Uganda', 'Portugal']\n",
      "------------------------------------------------------------\n",
      "New variable: Taiwan\n"
     ]
    }
   ],
   "source": [
    "# Add the `.pop()`ed value to the a new variable\n",
    "countries = ['Australia', 'New Zealand', 'Uganda', 'Portugal', 'Taiwan']\n",
    "print(\"Before:\", countries)\n",
    "print(\"-\" * 70)\n",
    "taiwan = countries.pop()\n",
    "print(\"After:\", countries)\n",
    "print(\"-\" * 60)\n",
    "print(\"New variable:\", taiwan)"
   ]
  },
  {
   "cell_type": "markdown",
   "metadata": {},
   "source": [
    "If you would like to insert a new element at a specific index location, you can use the method `.insert()` which takes two arguments, the first is the index of the list where you would like to put the element at, and the second is the element or elements you will be inserting.\n",
    "\n",
    "Since we like Tesla, let's add it back to our companies list at the same location it was at before. 🚗"
   ]
  },
  {
   "cell_type": "code",
   "execution_count": 17,
   "metadata": {},
   "outputs": [
    {
     "name": "stdout",
     "output_type": "stream",
     "text": [
      "Before: ['Amazon', 'Facebook', 'Google', 'Apple']\n",
      "------------------------------------------------------------\n",
      "After: ['Amazon', 'Facebook', 'Google', 'Tesla', 'Apple']\n"
     ]
    }
   ],
   "source": [
    "# Adding Tesla back\n",
    "\n",
    "print(\"Before:\", companies)\n",
    "print(\"-\" * 60)\n",
    "companies.insert(3, \"Tesla\")\n",
    "print(\"After:\", companies)"
   ]
  },
  {
   "cell_type": "code",
   "execution_count": 18,
   "metadata": {},
   "outputs": [
    {
     "name": "stdout",
     "output_type": "stream",
     "text": [
      "Before: ['Amazon', 'Facebook', 'Google', 'Tesla', 'Apple']\n",
      "------------------------------------------------------------\n",
      "After: ['Amazon', 'Facebook', 'Google', 'Tesla', 'Apple', 'General Motors']\n"
     ]
    }
   ],
   "source": [
    "# Adding back General Motors too\n",
    "\n",
    "print(\"Before:\", companies)\n",
    "print(\"-\" * 60)\n",
    "companies.insert(5, \"General Motors\")\n",
    "print(\"After:\", companies)"
   ]
  },
  {
   "cell_type": "markdown",
   "metadata": {},
   "source": [
    "If we would like to add a list to another list in a more functional way, using something similar to `.append()` or `.insert()`, we can use the method `.extend()` on the list we would like to modify. Then, we can pass as an argument the one we would like to modify the original one with."
   ]
  },
  {
   "cell_type": "code",
   "execution_count": 19,
   "metadata": {},
   "outputs": [
    {
     "name": "stdout",
     "output_type": "stream",
     "text": [
      "Before a_list: [1, 2, 3, 4]\n",
      "Before b_list: [5, 6, 7, 8]\n",
      "-------------------------\n",
      "After, combined lists: [1, 2, 3, 4, 5, 6, 7, 8]\n"
     ]
    }
   ],
   "source": [
    "print(\"Before a_list:\", a_list)\n",
    "print(\"Before b_list:\", b_list)\n",
    "print(\"-\" * 25)\n",
    "a_list.extend(b_list)\n",
    "print(\"After, combined lists:\", a_list)"
   ]
  },
  {
   "cell_type": "markdown",
   "metadata": {},
   "source": [
    "It is important point out the difference between functions and methods. A method is usually applied to and alters the original data type or structure while the function generates a new object. Think of this as:\n",
    "\n",
    "- `function(object)` --> How can I **transform** or use data\n",
    "- `object.function()` --> How can I **modify** the existing data type or structure\n",
    "\n",
    "Other useful functions that are always available in Python are `min()`, `max()`, `sorted()`, `sum()`, and many, many more that you can explore yourself by using the function by going to the following link, [built-in Python funcs](https://docs.python.org/3/library/functions.html).\n",
    "\n",
    "You can also inspect all of the functions available in a module by using the function dir`dir(module)`.\n",
    "\n",
    "Let's compare some of the built-in functions since we will use some of them quite often in data analytics."
   ]
  },
  {
   "cell_type": "code",
   "execution_count": 21,
   "metadata": {},
   "outputs": [
    {
     "name": "stdout",
     "output_type": "stream",
     "text": [
      "This list is now sorted: [1, 2, 3, 4, 5, 5, 8, 9, 11, 11, 13, 16, 17, 20, 21]\n",
      "------------------------------------------------------------------------------------------\n",
      "But it didn't stay like that for long: [5, 20, 1, 3, 16, 9, 8, 13, 11, 5, 4, 2, 11, 17, 21]\n"
     ]
    }
   ],
   "source": [
    "numbers = [5, 20, 1, 3, 16, 9, 8, 13, 11, 5, 4, 2, 11, 17, 21]\n",
    "\n",
    "# Let's first compare the method sort with the function sorted\n",
    "print(f\"This list is now sorted: {sorted(numbers)}\")\n",
    "print('-' * 90)\n",
    "print(f\"But it didn't stay like that for long: {numbers}\")"
   ]
  },
  {
   "cell_type": "code",
   "execution_count": 22,
   "metadata": {},
   "outputs": [
    {
     "name": "stdout",
     "output_type": "stream",
     "text": [
      "This list was sorted, and it stayed like that --> [1, 2, 3, 4, 5, 5, 8, 9, 11, 11, 13, 16, 17, 20, 21]\n"
     ]
    }
   ],
   "source": [
    "numbers.sort()\n",
    "print(f\"This list was sorted, and it stayed like that --> {numbers}\")"
   ]
  },
  {
   "cell_type": "markdown",
   "metadata": {},
   "source": [
    "When we have lists or arrays of numbers we will often want to explore their content. For example, knowing the maximum and minimum values in a list gives us a sense of the range of the numbers in that array. In addition, knowing the length and the mode will help us understand how many elements or data points are in our arrays and how often does the most repeated one, or ones, appear."
   ]
  },
  {
   "cell_type": "code",
   "execution_count": 23,
   "metadata": {},
   "outputs": [
    {
     "name": "stdout",
     "output_type": "stream",
     "text": [
      "The maximum value in our array is: 21\n",
      "The minimum value in our array is: 1\n",
      "The length of our array is: 15\n",
      "The range of our array is: 20\n"
     ]
    }
   ],
   "source": [
    "print(f\"The maximum value in our array is: {max(numbers)}\")\n",
    "print(f\"The minimum value in our array is: {min(numbers)}\")\n",
    "print(f\"The length of our array is: {len(numbers)}\")\n",
    "print(f\"The range of our array is: {max(numbers) - min(numbers)}\")"
   ]
  },
  {
   "cell_type": "markdown",
   "metadata": {},
   "source": [
    "We can find out the index of any element in our list by using the `.index()` method and passing to it the element we are interested in.\n",
    "\n",
    "For example, say we are interested in knowing where the number 21 is located at in our list so that we can remove it. With the `.index()` all we need to do is pass that method to it, and Python will provide us with its location."
   ]
  },
  {
   "cell_type": "code",
   "execution_count": 24,
   "metadata": {},
   "outputs": [
    {
     "data": {
      "text/plain": [
       "14"
      ]
     },
     "execution_count": 24,
     "metadata": {},
     "output_type": "execute_result"
    }
   ],
   "source": [
    "numbers.index(21)"
   ]
  },
  {
   "cell_type": "markdown",
   "metadata": {},
   "source": [
    "Our sorted list called `numbers` has (a length of) 15 elements, and since its maximum value is 21, the index of this max number is 14, or simply, the last index.\n",
    "\n",
    "We can fully copy a list in several different ways but we will focus on the following two mostly.\n",
    "- The first is by slicing it completely with `[:]` at the end.\n",
    "- The second is  using the method `.copy()` on a list and assigning the copy to a new variable.  \n",
    "\n",
    "**Note:** in most cases, you always want to assign the new copy to a new variable or object you are working with."
   ]
  },
  {
   "cell_type": "code",
   "execution_count": 25,
   "metadata": {},
   "outputs": [
    {
     "name": "stdout",
     "output_type": "stream",
     "text": [
      "Our original list:  [1, 2, 3, 4, 5, 6, 7, 8]\n",
      "Our original list again:  [1, 2, 3, 4, 5, 6, 7]\n",
      "Our new (unaffected) copy:  [1, 2, 3, 4, 5, 6, 7, 8]\n"
     ]
    }
   ],
   "source": [
    "print(\"Our original list: \", a_list)\n",
    "a_copy = a_list[:]\n",
    "a_list.pop()\n",
    "print(\"Our original list again: \", a_list)\n",
    "print(\"Our new (unaffected) copy: \", a_copy)"
   ]
  },
  {
   "cell_type": "markdown",
   "metadata": {},
   "source": [
    "We will sometimes need to delete some or all of the elements in a list. To do this, we can either use `del some_list` or the method `.clear()` on our list."
   ]
  },
  {
   "cell_type": "code",
   "execution_count": 26,
   "metadata": {},
   "outputs": [
    {
     "name": "stdout",
     "output_type": "stream",
     "text": [
      "[1, 2, 4, 5]\n"
     ]
    }
   ],
   "source": [
    "temporary_list_a = [1, 2, 3, 4, 5]\n",
    "\n",
    "# Let's first delete a single element\n",
    "\n",
    "del temporary_list_a[2] # this will delete the element at index two which is 3\n",
    "print(temporary_list_a)"
   ]
  },
  {
   "cell_type": "code",
   "execution_count": 27,
   "metadata": {},
   "outputs": [
    {
     "ename": "NameError",
     "evalue": "name 'temporary_list_a' is not defined",
     "output_type": "error",
     "traceback": [
      "\u001b[1;31m---------------------------------------------------------------------------\u001b[0m",
      "\u001b[1;31mNameError\u001b[0m                                 Traceback (most recent call last)",
      "\u001b[1;32m<ipython-input-27-5944980c4386>\u001b[0m in \u001b[0;36m<module>\u001b[1;34m\u001b[0m\n\u001b[0;32m      3\u001b[0m \u001b[1;33m\u001b[0m\u001b[0m\n\u001b[0;32m      4\u001b[0m \u001b[1;32mdel\u001b[0m \u001b[0mtemporary_list_a\u001b[0m \u001b[1;31m# deletes the full list\u001b[0m\u001b[1;33m\u001b[0m\u001b[1;33m\u001b[0m\u001b[0m\n\u001b[1;32m----> 5\u001b[1;33m \u001b[0mprint\u001b[0m\u001b[1;33m(\u001b[0m\u001b[0mtemporary_list_a\u001b[0m\u001b[1;33m)\u001b[0m \u001b[1;31m# can't print anything\u001b[0m\u001b[1;33m\u001b[0m\u001b[1;33m\u001b[0m\u001b[0m\n\u001b[0m",
      "\u001b[1;31mNameError\u001b[0m: name 'temporary_list_a' is not defined"
     ]
    }
   ],
   "source": [
    "# Now slice will delete the full list and we will receive an error\n",
    "# if we try to print it after deleting it\n",
    "\n",
    "del temporary_list_a # deletes the full list\n",
    "print(temporary_list_a) # can't print anything"
   ]
  },
  {
   "cell_type": "code",
   "execution_count": 28,
   "metadata": {},
   "outputs": [
    {
     "name": "stdout",
     "output_type": "stream",
     "text": [
      "[6, 7, 8, 9, 10]\n"
     ]
    }
   ],
   "source": [
    "# let's try the next method with the following list\n",
    "\n",
    "temporary_list_b = [6, 7, 8, 9, 10]\n",
    "print(temporary_list_b)"
   ]
  },
  {
   "cell_type": "code",
   "execution_count": 29,
   "metadata": {},
   "outputs": [
    {
     "name": "stdout",
     "output_type": "stream",
     "text": [
      "[]\n"
     ]
    }
   ],
   "source": [
    "# The clear method leaves an empty list behind but does not delete the variable holding it\n",
    "temporary_list_b.clear()\n",
    "print(temporary_list_b)"
   ]
  },
  {
   "cell_type": "markdown",
   "metadata": {},
   "source": [
    "## Exercise 1"
   ]
  },
  {
   "cell_type": "markdown",
   "metadata": {},
   "source": [
    "Create a range of 20 numbers and create a slice of the last 5 elements.\n",
    "- Name the list `first_list`.\n",
    "- Name the slice `first_slice`."
   ]
  },
  {
   "cell_type": "code",
   "execution_count": 31,
   "metadata": {},
   "outputs": [
    {
     "data": {
      "text/plain": [
       "[0, 1, 2, 3, 4, 5, 6, 7, 8, 9, 10, 11, 12, 13, 14, 15, 16, 17, 18, 19]"
      ]
     },
     "execution_count": 31,
     "metadata": {},
     "output_type": "execute_result"
    }
   ],
   "source": [
    "first_list=list(range(20))\n",
    "first_list"
   ]
  },
  {
   "cell_type": "code",
   "execution_count": 32,
   "metadata": {},
   "outputs": [
    {
     "data": {
      "text/plain": [
       "[15, 16, 17, 18, 19]"
      ]
     },
     "execution_count": 32,
     "metadata": {},
     "output_type": "execute_result"
    }
   ],
   "source": [
    "first_slice = first_list[-5:]\n",
    "first_slice"
   ]
  },
  {
   "cell_type": "markdown",
   "metadata": {},
   "source": [
    "## Exercise 2"
   ]
  },
  {
   "cell_type": "markdown",
   "metadata": {},
   "source": [
    "- Create a list with string data only and name it `string_list`. Add at least 5 elements.\n",
    "- Create a slice of at least two elements and assign it to a variable called `string_slice`.\n",
    "- Create a slice of one element and a further slice of one letter. Assign it to a variable called `tiny_slice`."
   ]
  },
  {
   "cell_type": "code",
   "execution_count": 33,
   "metadata": {},
   "outputs": [
    {
     "data": {
      "text/plain": [
       "['jamaica', 'DR', 'france', 'USA', 'Austria']"
      ]
     },
     "execution_count": 33,
     "metadata": {},
     "output_type": "execute_result"
    }
   ],
   "source": [
    "string_list = ['jamaica', 'DR', 'france', 'USA', 'Austria']\n",
    "string_list"
   ]
  },
  {
   "cell_type": "code",
   "execution_count": 34,
   "metadata": {},
   "outputs": [
    {
     "data": {
      "text/plain": [
       "['jamaica', 'DR']"
      ]
     },
     "execution_count": 34,
     "metadata": {},
     "output_type": "execute_result"
    }
   ],
   "source": [
    "string_slice = string_list[:2] # This will select elements in indices 0, and 1.\n",
    "string_slice"
   ]
  },
  {
   "cell_type": "code",
   "execution_count": 35,
   "metadata": {},
   "outputs": [
    {
     "data": {
      "text/plain": [
       "'m'"
      ]
     },
     "execution_count": 35,
     "metadata": {},
     "output_type": "execute_result"
    }
   ],
   "source": [
    "tiny_slice = string_slice[0][2] # This will select element 0's index 2 element.\n",
    "tiny_slice"
   ]
  },
  {
   "cell_type": "markdown",
   "metadata": {},
   "source": [
    "## Exercise 3"
   ]
  },
  {
   "cell_type": "markdown",
   "metadata": {},
   "source": [
    "- Create a list of 30 numbers and select assign to the variable `thirty`.\n",
    "- Select every other element."
   ]
  },
  {
   "cell_type": "code",
   "execution_count": 36,
   "metadata": {
    "scrolled": true
   },
   "outputs": [
    {
     "data": {
      "text/plain": [
       "[0,\n",
       " 1,\n",
       " 2,\n",
       " 3,\n",
       " 4,\n",
       " 5,\n",
       " 6,\n",
       " 7,\n",
       " 8,\n",
       " 9,\n",
       " 10,\n",
       " 11,\n",
       " 12,\n",
       " 13,\n",
       " 14,\n",
       " 15,\n",
       " 16,\n",
       " 17,\n",
       " 18,\n",
       " 19,\n",
       " 20,\n",
       " 21,\n",
       " 22,\n",
       " 23,\n",
       " 24,\n",
       " 25,\n",
       " 26,\n",
       " 27,\n",
       " 28,\n",
       " 29,\n",
       " 30]"
      ]
     },
     "execution_count": 36,
     "metadata": {},
     "output_type": "execute_result"
    }
   ],
   "source": [
    "thirty = list(range(31))\n",
    "thirty"
   ]
  },
  {
   "cell_type": "code",
   "execution_count": 37,
   "metadata": {},
   "outputs": [
    {
     "data": {
      "text/plain": [
       "[0, 2, 4, 6, 8, 10, 12, 14, 16, 18, 20, 22, 24, 26, 28, 30]"
      ]
     },
     "execution_count": 37,
     "metadata": {},
     "output_type": "execute_result"
    }
   ],
   "source": [
    "thirty[::2]"
   ]
  },
  {
   "cell_type": "markdown",
   "metadata": {},
   "source": [
    "# 1.2 Lists and Matrices"
   ]
  },
  {
   "cell_type": "markdown",
   "metadata": {},
   "source": [
    "Matrices are two-dimensional arrays that help us do computations with data, of the same or different structure, and that can be thought of as rows and columns of a spreadsheet. Think of the computations of matrices as small pieces of operations on data. For example, the addition of all of the elements in column A and column B starting from row 1 and ending in row 15 of Excel.\n",
    "\n",
    "Matrices in plain Python can be created as lists of lists, which are often referred to as nested lists. For example:"
   ]
  },
  {
   "cell_type": "code",
   "execution_count": 38,
   "metadata": {},
   "outputs": [
    {
     "name": "stdout",
     "output_type": "stream",
     "text": [
      "[[3, 7, 15], [8, 2, 19], [10, 6, 1]]\n"
     ]
    }
   ],
   "source": [
    "A_matrix = [[3, 7, 15],\n",
    "            [8, 2, 19],\n",
    "            [10, 6, 1]]\n",
    "\n",
    "print(A_matrix)"
   ]
  },
  {
   "cell_type": "markdown",
   "metadata": {},
   "source": [
    "You can access the data in a matrix in a similar fashion as with lists of only one dimension, but you will need an additional bracket and numbers next to the first set of slicing brackets, e.g. `Matrix[1][2]`."
   ]
  },
  {
   "cell_type": "code",
   "execution_count": 39,
   "metadata": {},
   "outputs": [
    {
     "data": {
      "text/plain": [
       "19"
      ]
     },
     "execution_count": 39,
     "metadata": {},
     "output_type": "execute_result"
    }
   ],
   "source": [
    "A_matrix[1][2]"
   ]
  },
  {
   "cell_type": "markdown",
   "metadata": {},
   "source": [
    "In the example above, the first bracket is in charge of selecting a row, and the second will select a column. For example, to get the number `19` from the previous matrix, `[1]` in the first bracket selects the second row of the list, and `[2]` in the second bracket selects the third column.\n",
    "\n",
    "Let's now get the number 15 from our `A_matrix`."
   ]
  },
  {
   "cell_type": "code",
   "execution_count": 40,
   "metadata": {},
   "outputs": [
    {
     "data": {
      "text/plain": [
       "15"
      ]
     },
     "execution_count": 40,
     "metadata": {},
     "output_type": "execute_result"
    }
   ],
   "source": [
    "A_matrix[0][2]"
   ]
  },
  {
   "cell_type": "markdown",
   "metadata": {},
   "source": [
    "To change the element of a list, array, or matrix, you can add an equal sign to the right of the matrix with the sliced data and add the element you want to the right of it. Remember, lists are mutable data structures, this means we can change their content however and whenever we want."
   ]
  },
  {
   "cell_type": "code",
   "execution_count": 41,
   "metadata": {},
   "outputs": [
    {
     "name": "stdout",
     "output_type": "stream",
     "text": [
      "10\n",
      "28\n"
     ]
    }
   ],
   "source": [
    "print(A_matrix[2][0]) # Show the original element in the list\n",
    "A_matrix[2][0] = 28   # Now change it to 28\n",
    "print(A_matrix[2][0])"
   ]
  },
  {
   "cell_type": "markdown",
   "metadata": {},
   "source": [
    "You can also do calculations in only one array of a matrix, provided the array in a matrix is of the appropriate type.\n",
    "\n",
    "Let's add the first and third rows of our matrix."
   ]
  },
  {
   "cell_type": "code",
   "execution_count": 42,
   "metadata": {},
   "outputs": [
    {
     "name": "stdout",
     "output_type": "stream",
     "text": [
      "This will add the first row: 25\n"
     ]
    }
   ],
   "source": [
    "print(\"This will add the first row: %i\" % sum(A_matrix[0]))"
   ]
  },
  {
   "cell_type": "code",
   "execution_count": 43,
   "metadata": {},
   "outputs": [
    {
     "name": "stdout",
     "output_type": "stream",
     "text": [
      "This will add the third row: 35\n"
     ]
    }
   ],
   "source": [
    "print(\"This will add the third row: %i\" % sum(A_matrix[2]))"
   ]
  },
  {
   "cell_type": "code",
   "execution_count": 44,
   "metadata": {},
   "outputs": [
    {
     "name": "stdout",
     "output_type": "stream",
     "text": [
      "The columns are a bit trickier. Here is the third column: 35\n"
     ]
    }
   ],
   "source": [
    "print(\"The columns are a bit trickier. Here is the third column: %i\" % (A_matrix[0][2] + A_matrix[1][2] + A_matrix[2][2]))"
   ]
  },
  {
   "cell_type": "markdown",
   "metadata": {},
   "source": [
    "When working with data in a matrix, we will most often than not be using the packages pandas or NumPy, the latter being the next topic in this lesson."
   ]
  },
  {
   "cell_type": "markdown",
   "metadata": {},
   "source": [
    "## Exercise 4"
   ]
  },
  {
   "cell_type": "markdown",
   "metadata": {},
   "source": [
    "- Create a list of 50 even numbers, assign it to the variable named `fifty`, and get the sum of all the values."
   ]
  },
  {
   "cell_type": "code",
   "execution_count": 49,
   "metadata": {},
   "outputs": [
    {
     "data": {
      "text/plain": [
       "50"
      ]
     },
     "execution_count": 49,
     "metadata": {},
     "output_type": "execute_result"
    }
   ],
   "source": [
    "#Create a list range up to 100, then skip every 2nd element in the index e.g. 1, 3, 5, etc.\n",
    "fifty = list(range(0,100))[::2]\n",
    "\n",
    "#check the output contains 50 numbers\n",
    "len(fifty)"
   ]
  },
  {
   "cell_type": "code",
   "execution_count": 50,
   "metadata": {},
   "outputs": [
    {
     "data": {
      "text/plain": [
       "2450"
      ]
     },
     "execution_count": 50,
     "metadata": {},
     "output_type": "execute_result"
    }
   ],
   "source": [
    "sum(fifty)"
   ]
  },
  {
   "cell_type": "markdown",
   "metadata": {},
   "source": [
    "## Exercise 5"
   ]
  },
  {
   "cell_type": "markdown",
   "metadata": {},
   "source": [
    "Use a for loop to print all of the elements in your `fifty` list. Add a nice printing format to it."
   ]
  },
  {
   "cell_type": "code",
   "execution_count": 51,
   "metadata": {
    "scrolled": true
   },
   "outputs": [
    {
     "name": "stdout",
     "output_type": "stream",
     "text": [
      "This is element 0 of fifty\n",
      "This is element 2 of fifty\n",
      "This is element 4 of fifty\n",
      "This is element 6 of fifty\n",
      "This is element 8 of fifty\n",
      "This is element 10 of fifty\n",
      "This is element 12 of fifty\n",
      "This is element 14 of fifty\n",
      "This is element 16 of fifty\n",
      "This is element 18 of fifty\n",
      "This is element 20 of fifty\n",
      "This is element 22 of fifty\n",
      "This is element 24 of fifty\n",
      "This is element 26 of fifty\n",
      "This is element 28 of fifty\n",
      "This is element 30 of fifty\n",
      "This is element 32 of fifty\n",
      "This is element 34 of fifty\n",
      "This is element 36 of fifty\n",
      "This is element 38 of fifty\n",
      "This is element 40 of fifty\n",
      "This is element 42 of fifty\n",
      "This is element 44 of fifty\n",
      "This is element 46 of fifty\n",
      "This is element 48 of fifty\n",
      "This is element 50 of fifty\n",
      "This is element 52 of fifty\n",
      "This is element 54 of fifty\n",
      "This is element 56 of fifty\n",
      "This is element 58 of fifty\n",
      "This is element 60 of fifty\n",
      "This is element 62 of fifty\n",
      "This is element 64 of fifty\n",
      "This is element 66 of fifty\n",
      "This is element 68 of fifty\n",
      "This is element 70 of fifty\n",
      "This is element 72 of fifty\n",
      "This is element 74 of fifty\n",
      "This is element 76 of fifty\n",
      "This is element 78 of fifty\n",
      "This is element 80 of fifty\n",
      "This is element 82 of fifty\n",
      "This is element 84 of fifty\n",
      "This is element 86 of fifty\n",
      "This is element 88 of fifty\n",
      "This is element 90 of fifty\n",
      "This is element 92 of fifty\n",
      "This is element 94 of fifty\n",
      "This is element 96 of fifty\n",
      "This is element 98 of fifty\n"
     ]
    }
   ],
   "source": [
    "for idx in range(len(fifty)):\n",
    "    print(f\"This is element {fifty[idx]} of fifty\")"
   ]
  },
  {
   "cell_type": "markdown",
   "metadata": {},
   "source": [
    "## Exercise 6"
   ]
  },
  {
   "cell_type": "markdown",
   "metadata": {},
   "source": [
    "Use a for loop and iterate over your `fifty` list while subtracting 5, raising to the power of 2, adding 10, and diving by 3, each element of the list."
   ]
  },
  {
   "cell_type": "code",
   "execution_count": 52,
   "metadata": {},
   "outputs": [],
   "source": [
    "def some_operation(number):\n",
    "    \"\"\"\n",
    "    This function subtracts 5 from a number\n",
    "    raises that number to the power of 2\n",
    "    add 10 to that number\n",
    "    divides that same number by 3\n",
    "    and returns the new number\n",
    "    \"\"\"\n",
    "    temp = number - 5\n",
    "    temp = temp ** 2\n",
    "    temp = temp + 10\n",
    "    temp = temp / 3\n",
    "    return temp"
   ]
  },
  {
   "cell_type": "code",
   "execution_count": 53,
   "metadata": {
    "scrolled": true
   },
   "outputs": [
    {
     "name": "stdout",
     "output_type": "stream",
     "text": [
      "11.666666666666666\n",
      "6.333333333333333\n",
      "3.6666666666666665\n",
      "3.6666666666666665\n",
      "6.333333333333333\n",
      "11.666666666666666\n",
      "19.666666666666668\n",
      "30.333333333333332\n",
      "43.666666666666664\n",
      "59.666666666666664\n",
      "78.33333333333333\n",
      "99.66666666666667\n",
      "123.66666666666667\n",
      "150.33333333333334\n",
      "179.66666666666666\n",
      "211.66666666666666\n",
      "246.33333333333334\n",
      "283.6666666666667\n",
      "323.6666666666667\n",
      "366.3333333333333\n",
      "411.6666666666667\n",
      "459.6666666666667\n",
      "510.3333333333333\n",
      "563.6666666666666\n",
      "619.6666666666666\n",
      "678.3333333333334\n",
      "739.6666666666666\n",
      "803.6666666666666\n",
      "870.3333333333334\n",
      "939.6666666666666\n",
      "1011.6666666666666\n",
      "1086.3333333333333\n",
      "1163.6666666666667\n",
      "1243.6666666666667\n",
      "1326.3333333333333\n",
      "1411.6666666666667\n",
      "1499.6666666666667\n",
      "1590.3333333333333\n",
      "1683.6666666666667\n",
      "1779.6666666666667\n",
      "1878.3333333333333\n",
      "1979.6666666666667\n",
      "2083.6666666666665\n",
      "2190.3333333333335\n",
      "2299.6666666666665\n",
      "2411.6666666666665\n",
      "2526.3333333333335\n",
      "2643.6666666666665\n",
      "2763.6666666666665\n",
      "2886.3333333333335\n"
     ]
    }
   ],
   "source": [
    "for n in fifty:\n",
    "    print (some_operation(n))"
   ]
  },
  {
   "cell_type": "code",
   "execution_count": 54,
   "metadata": {
    "scrolled": true
   },
   "outputs": [
    {
     "name": "stdout",
     "output_type": "stream",
     "text": [
      "11.666666666666666\n",
      "6.333333333333333\n",
      "3.6666666666666665\n",
      "3.6666666666666665\n",
      "6.333333333333333\n",
      "11.666666666666666\n",
      "19.666666666666668\n",
      "30.333333333333332\n",
      "43.666666666666664\n",
      "59.666666666666664\n",
      "78.33333333333333\n",
      "99.66666666666667\n",
      "123.66666666666667\n",
      "150.33333333333334\n",
      "179.66666666666666\n",
      "211.66666666666666\n",
      "246.33333333333334\n",
      "283.6666666666667\n",
      "323.6666666666667\n",
      "366.3333333333333\n",
      "411.6666666666667\n",
      "459.6666666666667\n",
      "510.3333333333333\n",
      "563.6666666666666\n",
      "619.6666666666666\n",
      "678.3333333333334\n",
      "739.6666666666666\n",
      "803.6666666666666\n",
      "870.3333333333334\n",
      "939.6666666666666\n",
      "1011.6666666666666\n",
      "1086.3333333333333\n",
      "1163.6666666666667\n",
      "1243.6666666666667\n",
      "1326.3333333333333\n",
      "1411.6666666666667\n",
      "1499.6666666666667\n",
      "1590.3333333333333\n",
      "1683.6666666666667\n",
      "1779.6666666666667\n",
      "1878.3333333333333\n",
      "1979.6666666666667\n",
      "2083.6666666666665\n",
      "2190.3333333333335\n",
      "2299.6666666666665\n",
      "2411.6666666666665\n",
      "2526.3333333333335\n",
      "2643.6666666666665\n",
      "2763.6666666666665\n",
      "2886.3333333333335\n"
     ]
    }
   ],
   "source": [
    "#Alternatively...\n",
    "for n in fifty:\n",
    "    print((((n-5)**2)+10)/3)"
   ]
  },
  {
   "cell_type": "markdown",
   "metadata": {},
   "source": [
    "# 2. Intro to Numpy"
   ]
  },
  {
   "cell_type": "markdown",
   "metadata": {},
   "source": [
    "![numpy](https://upload.wikimedia.org/wikipedia/commons/thumb/1/1a/NumPy_logo.svg/1200px-NumPy_logo.svg.png)\n",
    "**Source:** https://en.wikipedia.org/wiki/NumPy\n",
    "\n",
    "Numpy stands for Numerical Python and is one of the core libraries for everything that is related to data analysis in Python. In fact, it is so important for the entire data analytics and data science ecosystem, that most of the libraries and packages we will see in later lessons (and that you will continue to see later in your career) will most likely depend, in one way or another, on NumPy.\n",
    "\n",
    "This versatile library allows to do fast and efficient computations with arrays and matrices as well as simple-to-complex mathematical calculations. One of the reasons why it is so powerful and fast is that it is written on top libraries that interact with some functionalities of the C programming language. This means that they are executed much closer to the hardware of our computers than the regular lists in Python. We will compare the speed of both, lists and numpy arrays, later in this lesson to understand better what sets the apart.\n",
    "\n",
    "Main Characteristics of NumPy:\n",
    "\n",
    "- Many built-in mathematical functions\n",
    "- Efficient computations with n-dimensional arrays (n is the number of dimensions)\n",
    "- Fast\n",
    "- It allows for broadcasting. This is the equivalent computation of a loop but without the loop. Meaning, for a lot of tasks with large datasets, you won't need to create a loop\n",
    "- Arrays use less of your computer memory than built-in Python equivalent data types and structures\n",
    "- Excellent tool for generating random data. This will be useful if you would like to simulate different scenarios with post-marketing campaign sales, stock prices, weather impact on agricultural production, etc.\n",
    "\n",
    "Let's beging by importing our library with its industry alias (remember, an alias is the nickname you give to the modules you import). The community using Python for data analysis has adopted the convention of importing NumPy as `np`, and to make collaborating easier and save us typing unnecessary letters, we will follow this convention."
   ]
  },
  {
   "cell_type": "markdown",
   "metadata": {},
   "source": [
    "# 2.1 Numpy Basics"
   ]
  },
  {
   "cell_type": "code",
   "execution_count": 55,
   "metadata": {},
   "outputs": [],
   "source": [
    "import numpy as np"
   ]
  },
  {
   "cell_type": "markdown",
   "metadata": {},
   "source": [
    "Once you import numpy, and any other package for that matter, you can check its version with `.__version__`."
   ]
  },
  {
   "cell_type": "code",
   "execution_count": 56,
   "metadata": {},
   "outputs": [
    {
     "data": {
      "text/plain": [
       "'1.18.4'"
      ]
     },
     "execution_count": 56,
     "metadata": {},
     "output_type": "execute_result"
    }
   ],
   "source": [
    "np.__version__"
   ]
  },
  {
   "cell_type": "markdown",
   "metadata": {},
   "source": [
    "## Exercise 7\n",
    "\n",
    "Find a package online, install it with pip, and check its version as described above."
   ]
  },
  {
   "cell_type": "code",
   "execution_count": 57,
   "metadata": {},
   "outputs": [
    {
     "name": "stdout",
     "output_type": "stream",
     "text": [
      "Collecting puremagic\n",
      "  Downloading puremagic-1.8-py3-none-any.whl (31 kB)\n",
      "Collecting argparse\n",
      "  Downloading argparse-1.4.0-py2.py3-none-any.whl (23 kB)\n",
      "Installing collected packages: argparse, puremagic\n",
      "Successfully installed argparse-1.4.0 puremagic-1.8\n"
     ]
    }
   ],
   "source": [
    "# Install it here\n",
    "!pip install puremagic"
   ]
  },
  {
   "cell_type": "code",
   "execution_count": 58,
   "metadata": {},
   "outputs": [],
   "source": [
    "# Import it here\n",
    "import puremagic as pm"
   ]
  },
  {
   "cell_type": "code",
   "execution_count": 59,
   "metadata": {},
   "outputs": [
    {
     "data": {
      "text/plain": [
       "'1.8'"
      ]
     },
     "execution_count": 59,
     "metadata": {},
     "output_type": "execute_result"
    }
   ],
   "source": [
    "# Check its version here\n",
    "pm.__version__"
   ]
  },
  {
   "cell_type": "markdown",
   "metadata": {},
   "source": [
    "Arrays in numpy are similar to lists but they differ in that they can only contain one data type. If you have ever added a number to a column, row, or both in Excel then you have already worked with arrays and matrices. If you have ever written a list of different things you needed to buy at the supermarket, as well as the quantity of each, then you have already created a two-dimensional array or matrix.\n",
    "\n",
    "Thinking of numpy arrays as the components of a spreadsheet, will help solidify your understanding of these concepts.\n",
    "\n",
    "| Index |    Date   |     Item     |  Quantity |\n",
    "|:-----:|:---------:|:------------:|:---------:|\n",
    "|   1   | 12-Apr-20 | toilet paper |   1000    |\n",
    "|   2   | 20-Apr-20 | chicken      |     10    |\n",
    "|   3   | 27-Apr-20 | toilet paper |    500    |\n",
    "|   4   | 27-Apr-20 | cereal       |      2    |\n",
    "|   5   | 27-Apr-20 | bread        |      1    |\n",
    "\n",
    "We can start working with arrays by calling the `.array()` method from our numpy module. These methods take in regular Python lists and transform them immediately into their own numpy class."
   ]
  },
  {
   "cell_type": "code",
   "execution_count": 60,
   "metadata": {},
   "outputs": [
    {
     "name": "stdout",
     "output_type": "stream",
     "text": [
      "[25 40 50 16 10 19 32 27 11] <class 'numpy.ndarray'>\n"
     ]
    }
   ],
   "source": [
    "# Create your first array\n",
    "\n",
    "first_array = np.array([25, 40, 50, 16, 10, 19, 32, 27, 11])\n",
    "print(first_array, type(first_array))"
   ]
  },
  {
   "cell_type": "markdown",
   "metadata": {},
   "source": [
    "You have already seen the native function `range()`, which creates a range of values from a given value, and up to a point with or without a step in between. The equivalent of this function in numpy is the `np.arange()` (pronounced 'a' 'range' not 'arrange' from the verb 'arranging'). The nice thing about the numpy's version is that we can add an additional parameter that lets us pick the data type of the array. For example, and even thought you might not worry about this until you tackle more advaced problems with larger datasets, the difference between a data type `int8` and `int64` can increase the performance of a computation by reducing the bite size of an array.\n",
    "\n",
    "Let's use both, `range()` and `np.arange()` to see how they work."
   ]
  },
  {
   "cell_type": "code",
   "execution_count": 61,
   "metadata": {},
   "outputs": [
    {
     "name": "stdout",
     "output_type": "stream",
     "text": [
      "[0, 1, 2, 3, 4, 5, 6, 7, 8, 9]\n",
      "[0, 1, 2, 3, 4, 5, 6, 7, 8, 9]\n",
      "[0, 2, 4, 6, 8]\n"
     ]
    }
   ],
   "source": [
    "# since range() is a lazy function, we have to wrap it around a list() to print its values\n",
    "print(list(range(10))) # create array of 10 numbers from 0 to 9\n",
    "print(list(range(0, 10))) # create array of 10 numbers from 0 to 9\n",
    "print(list(range(0, 10, 2))) # create array of even numbers from 0 to 9. Stepwise operation!"
   ]
  },
  {
   "cell_type": "code",
   "execution_count": 62,
   "metadata": {},
   "outputs": [
    {
     "name": "stdout",
     "output_type": "stream",
     "text": [
      "[0 1 2 3 4 5 6 7 8 9]\n",
      "[0 1 2 3 4 5 6 7 8 9]\n",
      "[0 1 2 3 4 5 6 7 8 9]\n",
      "[0 2 4 6 8]\n"
     ]
    }
   ],
   "source": [
    "# NumPy example\n",
    "print(np.arange(10)) # create array of 10 numbers from 0 to 9\n",
    "print(np.arange(10, dtype='int8')) # create array of 10 numbers from 0 to 9 and with integers of 8 bits\n",
    "print(np.arange(0, 10, dtype='int32')) # create array of 10 numbers from 0 to 9 and with integers of 32 bits\n",
    "print(np.arange(0, 10, 2, dtype='int64')) # create array of 5 even numbers from 0 to 9. Stepwise operation and with integers of 64 bits"
   ]
  },
  {
   "cell_type": "markdown",
   "metadata": {},
   "source": [
    "NumPy comes with its own methods for checking the shape, data type, and dimensions of your arrays. This can come in handy when working and sharing data with others who might not be able to tell, upon fast inspection, how these previously mentioned characteristics (shape, dtype, and number of dimensions) are shown in your data.\n",
    "\n",
    "When we use the attribute `.shape` on an array, we get back a `tuple` with the rows as the first element and the columns as the second element.\n",
    "\n",
    "**Note:** Remember tuples can, but don't have to, be surrounded by parethesis but they always have to have at least one comma `,` separating at least one element. e.g. `(6, 7)` or `6, 7` or `(5,)` are all tuples."
   ]
  },
  {
   "cell_type": "code",
   "execution_count": 63,
   "metadata": {},
   "outputs": [
    {
     "name": "stdout",
     "output_type": "stream",
     "text": [
      "int32\n",
      "(9,)\n",
      "1\n"
     ]
    }
   ],
   "source": [
    "print(first_array.dtype) # data type\n",
    "print(first_array.shape) # (rows, columns)\n",
    "print(first_array.ndim) # dimension"
   ]
  },
  {
   "cell_type": "markdown",
   "metadata": {},
   "source": [
    "Our first variable earlier, `first_array`, was initiated on the spot as a numpy array from what looked a lot like a list, and that is exactly what is would have been should it have been outside the numpy array constructor. If we have been working with a list of a single data type and we wanted to convert it into a numpy array, we could do so in the following way."
   ]
  },
  {
   "cell_type": "code",
   "execution_count": 64,
   "metadata": {},
   "outputs": [
    {
     "name": "stdout",
     "output_type": "stream",
     "text": [
      "This some_list is of type <class 'list'>\n",
      "------------------------------\n",
      "and some_array is of type <class 'numpy.ndarray'>\n"
     ]
    }
   ],
   "source": [
    "some_list = [23, 12, 9, 20, 15, 34]\n",
    "some_array = np.array(some_list)\n",
    "print(f\"This some_list is of type {type(some_list)}\\n\" + '-' * 30 + \"\\n\" + f\"and some_array is of type {type(some_array)}\")"
   ]
  },
  {
   "cell_type": "markdown",
   "metadata": {},
   "source": [
    "To test your understanding of printing in Python, try to unpack what is happening inside the print statement above. Could we write that same one line in a cleaner way? 🤔"
   ]
  },
  {
   "cell_type": "markdown",
   "metadata": {},
   "source": [
    "You can also create or pass to a numpy array multiple lists or lists of lists. Remember that numpy only accepts one data type per array.\n",
    "\n",
    "In addition to lists, tuples, and sets can also be passed into a numpy array."
   ]
  },
  {
   "cell_type": "code",
   "execution_count": 65,
   "metadata": {},
   "outputs": [],
   "source": [
    "# this is a matrix of multiple lists\n",
    "\n",
    "matrix_list = [[1, 2, 3, 4],\n",
    "               [20, 22, 27, 15], \n",
    "               [11, 14, 19, 7]]"
   ]
  },
  {
   "cell_type": "code",
   "execution_count": 66,
   "metadata": {},
   "outputs": [],
   "source": [
    "matrix_array = np.array([[1, 2, 3, 4], # this is a matrix of multiple arrays\n",
    "                         [5, 6, 7, 8], # even though it looks just like a bunch of lists\n",
    "                         [9, 8, 7, 6]]) # it is treated differently in python"
   ]
  },
  {
   "cell_type": "code",
   "execution_count": 67,
   "metadata": {},
   "outputs": [],
   "source": [
    "ndarray_lists = np.array(matrix_list) # this is a matrix created from a list of lists"
   ]
  },
  {
   "cell_type": "code",
   "execution_count": 68,
   "metadata": {},
   "outputs": [
    {
     "name": "stdout",
     "output_type": "stream",
     "text": [
      "[[1, 2, 3, 4], [20, 22, 27, 15], [11, 14, 19, 7]] <class 'list'>\n",
      "----------------------------------------\n",
      "[[1 2 3 4]\n",
      " [5 6 7 8]\n",
      " [9 8 7 6]] int32\n",
      "----------------------------------------\n",
      "[[ 1  2  3  4]\n",
      " [20 22 27 15]\n",
      " [11 14 19  7]] int32\n"
     ]
    }
   ],
   "source": [
    "print(matrix_list, type(matrix_list))\n",
    "print(\"-\" * 40)\n",
    "print(matrix_array, matrix_array.dtype)\n",
    "print(\"-\" * 40)\n",
    "print(ndarray_lists, ndarray_lists.dtype)"
   ]
  },
  {
   "cell_type": "code",
   "execution_count": 69,
   "metadata": {},
   "outputs": [
    {
     "name": "stdout",
     "output_type": "stream",
     "text": [
      "[['Hi' 'this' 'is' 'a']\n",
      " ['matrix' 'that' 'only' 'contains']\n",
      " ['text' 'and' 'no' 'numbers']]\n"
     ]
    }
   ],
   "source": [
    "# this is a numpy matrix of multiple arrays as strings\n",
    "\n",
    "matrix_text = np.array([[\"Hi\", \"this\", \"is\", \"a\"],\n",
    "                         [\"matrix\", \"that\", \"only\", \"contains\"],\n",
    "                         [\"text\", \"and\", \"no\", \"numbers\"]])\n",
    "print(matrix_text)"
   ]
  },
  {
   "cell_type": "markdown",
   "metadata": {},
   "source": [
    "If you are ever unsure of the number of dimensions a numpy array has, you can always check this with the `.ndim` attribute. Also, whenever you see a list of lists in an object, it helps to think of it as an Excel spreadsheet."
   ]
  },
  {
   "cell_type": "code",
   "execution_count": 70,
   "metadata": {},
   "outputs": [
    {
     "name": "stdout",
     "output_type": "stream",
     "text": [
      "2\n"
     ]
    }
   ],
   "source": [
    "print(matrix_text.ndim)"
   ]
  },
  {
   "cell_type": "markdown",
   "metadata": {},
   "source": [
    "We can also select and change numbers in the same fashion as with lists, but with an additional functionality of being able to pinpoint exactly what we want by selecting columns and rows within the same bracket.\n",
    "\n",
    "Let's see what `array[rows,columns]` looks like by starting with the rows first.\n",
    "\n",
    "> **array[start:end:step, start:end:step]**  "
   ]
  },
  {
   "cell_type": "code",
   "execution_count": 71,
   "metadata": {},
   "outputs": [
    {
     "name": "stdout",
     "output_type": "stream",
     "text": [
      "Our first array --> [25 40 50 16 10 19 32 27 11] has 1 dimension(s)\n",
      "----------------------------------------\n",
      "One element --> 25\n",
      "----------------------------------------\n",
      "More than one element --> [25 40 50 16 10]\n",
      "----------------------------------------\n",
      "More than one element --> [50 16 10 19]\n"
     ]
    }
   ],
   "source": [
    "print(f\"Our first array --> {first_array} has {first_array.ndim} dimension(s)\")\n",
    "print(\"-\" * 40)\n",
    "print(f\"One element --> {first_array[0]}\") # select an element first row\n",
    "print(\"-\" * 40)\n",
    "print(f\"More than one element --> {first_array[:5]}\") # select elements from 0 to 4\n",
    "print(\"-\" * 40)\n",
    "print(f\"More than one element --> {first_array[2:-3]}\") # select elements from the 3rd to the third to last\n",
    "# negative indexing starts from the end without using 0"
   ]
  },
  {
   "cell_type": "markdown",
   "metadata": {},
   "source": [
    "To select elements from a matrix we need to have a comma `,` separating our data. The rows are on the left and the columns will be on the right. The colon `:` still allows us to select a range, and adding an additional colon `:` allows us to select elements with steps in between.\n",
    "\n",
    "Being able to select columns becomes specially useful when we have different data in our ararys. Think about our shoping list again (a mix of arrays). We will need to select specific elements from it as we go through the isles of the supermarket.\n",
    "\n",
    "![groceries](https://media.giphy.com/media/l0G16KpPfcmdN1G1O/giphy.gif)  \n",
    "\n",
    "> **matrix\\[start:end:step, start:end:step\\]**"
   ]
  },
  {
   "cell_type": "code",
   "execution_count": 72,
   "metadata": {},
   "outputs": [
    {
     "data": {
      "text/plain": [
       "array([[1, 2, 3, 4],\n",
       "       [5, 6, 7, 8],\n",
       "       [9, 8, 7, 6]])"
      ]
     },
     "execution_count": 72,
     "metadata": {},
     "output_type": "execute_result"
    }
   ],
   "source": [
    "matrix_array"
   ]
  },
  {
   "cell_type": "code",
   "execution_count": 73,
   "metadata": {},
   "outputs": [
    {
     "name": "stdout",
     "output_type": "stream",
     "text": [
      "8\n",
      "-------------------------\n",
      "[4 8 6]\n",
      "-------------------------\n",
      "[[1 2 3 4]\n",
      " [5 6 7 8]\n",
      " [9 8 7 6]]\n",
      "-------------------------\n",
      "[[1 2]\n",
      " [5 6]\n",
      " [9 8]]\n"
     ]
    }
   ],
   "source": [
    "print(matrix_array[1, 3]) # element on second row and second column\n",
    "print(\"-\" * 25)\n",
    "print(matrix_array[:, 3]) # all rows of column 2\n",
    "print(\"-\" * 25)\n",
    "print(matrix_array[:, :]) # all rows and columns i.e. a full copy\n",
    "print(\"-\" * 25)\n",
    "print(matrix_array[:, :2]) # everything in the first two columns"
   ]
  },
  {
   "cell_type": "markdown",
   "metadata": {},
   "source": [
    "Remember, selecting one element of an (nd)array can be considered indexing, and selecting a group of elements from an (nd)array can be thought of as slicing your data.\n",
    "\n",
    "Let's go over a few more examples before going over some exercises, and let's first create a 5 by 5 matrix and call it Matrix X."
   ]
  },
  {
   "cell_type": "code",
   "execution_count": 74,
   "metadata": {},
   "outputs": [
    {
     "data": {
      "text/plain": [
       "array([[15, 41, 30, 11, 29],\n",
       "       [22,  8, 13, 10, 14],\n",
       "       [31, 19, 45, 16, 23],\n",
       "       [17, 16, 33,  1, 34],\n",
       "       [ 6, 27, 38, 25, 18]])"
      ]
     },
     "execution_count": 74,
     "metadata": {},
     "output_type": "execute_result"
    }
   ],
   "source": [
    "matrix_x = np.array([[15, 41, 30, 11, 29],\n",
    "                    [22, 8, 13, 10, 14],\n",
    "                    [31, 19, 45, 16, 23],\n",
    "                    [17, 16, 33, 1, 34],\n",
    "                    [6, 27, 38, 25, 18]])\n",
    "matrix_x"
   ]
  },
  {
   "cell_type": "markdown",
   "metadata": {},
   "source": [
    "Let's figure out how to select the following rows and columns from Matrix X.\n",
    "\n",
    "![alt](https://raw.githubusercontent.com/CoderAcademyEdu/intro-python-4-da/b91c0c49ee2c5be6415b8506d5d2d07e00e3917b/lesson_2/pictures/matrix_x_1.jpeg?token=AJXSBWZQYBQ7EYJ4SZSJ5A26YCXLA)"
   ]
  },
  {
   "cell_type": "code",
   "execution_count": null,
   "metadata": {},
   "outputs": [],
   "source": [
    "matrix_x"
   ]
  },
  {
   "cell_type": "code",
   "execution_count": null,
   "metadata": {},
   "outputs": [],
   "source": [
    "# Matrix X number 1\n",
    "\n",
    "# We want all rows in the first column\n",
    "\n",
    "matrix_x[:, 0]"
   ]
  },
  {
   "cell_type": "code",
   "execution_count": null,
   "metadata": {},
   "outputs": [],
   "source": [
    "# Matrix X number 2\n",
    "\n",
    "# We want the first row and all columns\n",
    "\n",
    "matrix_x[0, :]"
   ]
  },
  {
   "cell_type": "code",
   "execution_count": null,
   "metadata": {},
   "outputs": [],
   "source": [
    "# Matrix X number 3\n",
    "\n",
    "# We want the intersection of the first column and the first row\n",
    "\n",
    "matrix_x[0, 0]"
   ]
  },
  {
   "cell_type": "markdown",
   "metadata": {},
   "source": [
    "Let's make things a bit more interesting by scaling the complexity of how we slice our matrix X.\n",
    "\n",
    "![alt](https://raw.githubusercontent.com/CoderAcademyEdu/intro-python-4-da/b91c0c49ee2c5be6415b8506d5d2d07e00e3917b/lesson_2/pictures/matrix_x_2.jpeg?token=AJXSBW7I35QAWS5EF4ZTREC6YC5HU)"
   ]
  },
  {
   "cell_type": "code",
   "execution_count": 75,
   "metadata": {},
   "outputs": [
    {
     "data": {
      "text/plain": [
       "array([[15, 41, 30, 11, 29],\n",
       "       [22,  8, 13, 10, 14],\n",
       "       [31, 19, 45, 16, 23],\n",
       "       [17, 16, 33,  1, 34],\n",
       "       [ 6, 27, 38, 25, 18]])"
      ]
     },
     "execution_count": 75,
     "metadata": {},
     "output_type": "execute_result"
    }
   ],
   "source": [
    "# Let's print matrix x again\n",
    "\n",
    "matrix_x"
   ]
  },
  {
   "cell_type": "code",
   "execution_count": 77,
   "metadata": {},
   "outputs": [
    {
     "data": {
      "text/plain": [
       "array([[15, 41, 30, 11, 29],\n",
       "       [31, 19, 45, 16, 23],\n",
       "       [ 6, 27, 38, 25, 18]])"
      ]
     },
     "execution_count": 77,
     "metadata": {},
     "output_type": "execute_result"
    }
   ],
   "source": [
    "# Matrix X number 4\n",
    "\n",
    "# We want all columns and every other row\n",
    "\n",
    "matrix_x[::2, :]"
   ]
  },
  {
   "cell_type": "code",
   "execution_count": 79,
   "metadata": {},
   "outputs": [
    {
     "data": {
      "text/plain": [
       "array([[15, 30, 29],\n",
       "       [22, 13, 14],\n",
       "       [31, 45, 23],\n",
       "       [17, 33, 34],\n",
       "       [ 6, 38, 18]])"
      ]
     },
     "execution_count": 79,
     "metadata": {},
     "output_type": "execute_result"
    }
   ],
   "source": [
    "# Matrix X number 5\n",
    "\n",
    "# We want all rows and every other column\n",
    "\n",
    "matrix_x[:, ::2]"
   ]
  },
  {
   "cell_type": "code",
   "execution_count": 80,
   "metadata": {},
   "outputs": [
    {
     "data": {
      "text/plain": [
       "array([[ 8, 10],\n",
       "       [16,  1]])"
      ]
     },
     "execution_count": 80,
     "metadata": {},
     "output_type": "execute_result"
    }
   ],
   "source": [
    "# Matrix X number 6\n",
    "\n",
    "# We want every other row starting from the second one \n",
    "# and we want every other column starting from the second one as well\n",
    "\n",
    "matrix_x[1::2, 1::2]"
   ]
  },
  {
   "cell_type": "markdown",
   "metadata": {},
   "source": [
    "You can also add values to these numbers and reasign them to a new variable if you'd like."
   ]
  },
  {
   "cell_type": "code",
   "execution_count": 81,
   "metadata": {},
   "outputs": [
    {
     "data": {
      "text/plain": [
       "array([[13, 15],\n",
       "       [21,  6]])"
      ]
     },
     "execution_count": 81,
     "metadata": {},
     "output_type": "execute_result"
    }
   ],
   "source": [
    "temp_matrix = (matrix_x[1::2, 1::2] + 5).copy()\n",
    "temp_matrix"
   ]
  },
  {
   "cell_type": "markdown",
   "metadata": {},
   "source": [
    "For our last example, let's explore how to get values at a specific point in our matrix.\n",
    "\n",
    "![alt](https://raw.githubusercontent.com/CoderAcademyEdu/intro-python-4-da/b91c0c49ee2c5be6415b8506d5d2d07e00e3917b/lesson_2/pictures/matrix_x_3.jpeg?token=AJXSBWZPFH5SFWWSYAEV33K6YC5JS)"
   ]
  },
  {
   "cell_type": "code",
   "execution_count": 82,
   "metadata": {},
   "outputs": [
    {
     "data": {
      "text/plain": [
       "array([[15, 41, 30, 11, 29],\n",
       "       [22,  8, 13, 10, 14],\n",
       "       [31, 19, 45, 16, 23],\n",
       "       [17, 16, 33,  1, 34],\n",
       "       [ 6, 27, 38, 25, 18]])"
      ]
     },
     "execution_count": 82,
     "metadata": {},
     "output_type": "execute_result"
    }
   ],
   "source": [
    "# Let's print matrix x again\n",
    "\n",
    "matrix_x"
   ]
  },
  {
   "cell_type": "code",
   "execution_count": 83,
   "metadata": {},
   "outputs": [
    {
     "data": {
      "text/plain": [
       "array([15, 45, 18])"
      ]
     },
     "execution_count": 83,
     "metadata": {},
     "output_type": "execute_result"
    }
   ],
   "source": [
    "# Matrix X number 7\n",
    "\n",
    "# We want the first, third, and fifth element of the first, third, and fifth column-row combination\n",
    "\n",
    "matrix_x[[0, 2, 4], [0, 2, 4]]"
   ]
  },
  {
   "cell_type": "code",
   "execution_count": 84,
   "metadata": {},
   "outputs": [
    {
     "data": {
      "text/plain": [
       "array([22, 41, 33, 25, 23])"
      ]
     },
     "execution_count": 84,
     "metadata": {},
     "output_type": "execute_result"
    }
   ],
   "source": [
    "# Matrix X number 4\n",
    "\n",
    "# We want the elements at:\n",
    "# second row and first column\n",
    "# first row and second column\n",
    "# fourth row and third column\n",
    "# fifth row and fourth column\n",
    "# third row and fifth column\n",
    "\n",
    "matrix_x[[1, 0, 3, 4, 2], [0, 1, 2, 3, 4]]"
   ]
  },
  {
   "cell_type": "markdown",
   "metadata": {},
   "source": [
    "## Exercise 7"
   ]
  },
  {
   "cell_type": "markdown",
   "metadata": {},
   "source": [
    "1. Create a matrix with 4 rows and 5 columns\n",
    "2. Select the first and last row"
   ]
  },
  {
   "cell_type": "code",
   "execution_count": 101,
   "metadata": {},
   "outputs": [
    {
     "data": {
      "text/plain": [
       "array([1, 2, 3, 4, 5])"
      ]
     },
     "execution_count": 101,
     "metadata": {},
     "output_type": "execute_result"
    }
   ],
   "source": [
    "matrix_7 = np.array([[1, 2, 3, 4, 5],\n",
    "                         [5, 6, 7, 8, 9], \n",
    "                         [9, 8, 7, 6, 5],\n",
    "                         [5, 4, 3, 2, 1]])\n",
    "matrix_7[0, :]"
   ]
  },
  {
   "cell_type": "code",
   "execution_count": 102,
   "metadata": {},
   "outputs": [
    {
     "data": {
      "text/plain": [
       "array([5, 4, 3, 2, 1])"
      ]
     },
     "execution_count": 102,
     "metadata": {},
     "output_type": "execute_result"
    }
   ],
   "source": [
    "matrix_7[3, :]"
   ]
  },
  {
   "cell_type": "code",
   "execution_count": 103,
   "metadata": {},
   "outputs": [
    {
     "data": {
      "text/plain": [
       "array([[1, 2, 3, 4, 5],\n",
       "       [5, 4, 3, 2, 1]])"
      ]
     },
     "execution_count": 103,
     "metadata": {},
     "output_type": "execute_result"
    }
   ],
   "source": [
    "matrix_7[[0,3], :]"
   ]
  },
  {
   "cell_type": "markdown",
   "metadata": {},
   "source": [
    "## Exercise 8"
   ]
  },
  {
   "cell_type": "markdown",
   "metadata": {},
   "source": [
    "1. Create a matrix with 6 rows and 3 columns\n",
    "2. Select the first and last columns"
   ]
  },
  {
   "cell_type": "code",
   "execution_count": 104,
   "metadata": {},
   "outputs": [
    {
     "data": {
      "text/plain": [
       "array([[ 0,  1,  2],\n",
       "       [ 3,  4,  5],\n",
       "       [ 6,  7,  8],\n",
       "       [ 9, 10, 11],\n",
       "       [12, 13, 14],\n",
       "       [15, 16, 17]])"
      ]
     },
     "execution_count": 104,
     "metadata": {},
     "output_type": "execute_result"
    }
   ],
   "source": [
    "matrix_8 = np.array([\n",
    "    np.arange(3),\n",
    "    np.arange(3, 6),\n",
    "    np.arange(6, 9),\n",
    "    np.arange(9, 12),\n",
    "    np.arange(12, 15),\n",
    "    np.arange(15, 18),\n",
    "])\n",
    "\n",
    "matrix_8"
   ]
  },
  {
   "cell_type": "code",
   "execution_count": 105,
   "metadata": {},
   "outputs": [
    {
     "data": {
      "text/plain": [
       "array([[ 0,  2],\n",
       "       [ 3,  5],\n",
       "       [ 6,  8],\n",
       "       [ 9, 11],\n",
       "       [12, 14],\n",
       "       [15, 17]])"
      ]
     },
     "execution_count": 105,
     "metadata": {},
     "output_type": "execute_result"
    }
   ],
   "source": [
    "matrix_8[:, [0,2]]"
   ]
  },
  {
   "cell_type": "markdown",
   "metadata": {},
   "source": [
    "## Exercise 9"
   ]
  },
  {
   "cell_type": "markdown",
   "metadata": {},
   "source": [
    "1. Create a matrix with 5 rows and 9 columns\n",
    "2. Select every third column"
   ]
  },
  {
   "cell_type": "code",
   "execution_count": 106,
   "metadata": {},
   "outputs": [
    {
     "data": {
      "text/plain": [
       "array([[0, 1, 2, 3, 4, 5, 6, 7, 8],\n",
       "       [0, 1, 2, 3, 4, 5, 6, 7, 8],\n",
       "       [0, 1, 2, 3, 4, 5, 6, 7, 8],\n",
       "       [0, 1, 2, 3, 4, 5, 6, 7, 8],\n",
       "       [0, 1, 2, 3, 4, 5, 6, 7, 8]])"
      ]
     },
     "execution_count": 106,
     "metadata": {},
     "output_type": "execute_result"
    }
   ],
   "source": [
    "matrix_9 = np.array([\n",
    "    np.arange(9),\n",
    "    np.arange(9),\n",
    "    np.arange(9),\n",
    "    np.arange(9),\n",
    "    np.arange(9)\n",
    "])\n",
    "\n",
    "matrix_9"
   ]
  },
  {
   "cell_type": "code",
   "execution_count": 110,
   "metadata": {},
   "outputs": [
    {
     "data": {
      "text/plain": [
       "array([[0, 3, 6],\n",
       "       [0, 3, 6],\n",
       "       [0, 3, 6],\n",
       "       [0, 3, 6],\n",
       "       [0, 3, 6]])"
      ]
     },
     "execution_count": 110,
     "metadata": {},
     "output_type": "execute_result"
    }
   ],
   "source": [
    "matrix_9[: , ::3]"
   ]
  },
  {
   "cell_type": "markdown",
   "metadata": {},
   "source": [
    "# 2.2 Generating Data With Numpy"
   ]
  },
  {
   "cell_type": "markdown",
   "metadata": {},
   "source": [
    "We have already seen how straghtforward it is to convert data to numpy arrays of different dimmensions, however, numpy has even more functionalities that allow us to generate data on the fly either as a one-dimensional array or multiple.\n",
    "\n",
    "Here are some of the most importat functions to generate data with numpy.\n",
    "\n",
    "- `np.arange(start, end, step, dtype='something')` will create a one-dimensional array\n",
    "- `np.arange(start, end, step, dtype='something').reshape(4, 5)` will reshape a one-dimensional array into a matrix\n",
    "- `np.zeros(nums, dtype='something')` creates an array full of zeros\n",
    "- `np.ones((rows, columns), dtype='something')` creates an array full of ones\n",
    "- `np.random.random(num)` creates an array of random values from 0 to 1. If passed in a tuple such as (3, 5), it will crate a matrix of random values\n",
    "- `np.linspace(start, end, nums_in_between)` creates an array of linearly-spaced numbers from the start point to the end\n",
    "- `np.random.normal(mean, std, size)` draws random numbers from a normal distribution with the mean, standard deviation, and size of your choosing.\n",
    "- `np.random.randint(start, end, shape)` creates random integers\n",
    "- `np.full(shape, num_you_like)` creates an array or matrix with the same number all accross\n",
    "- `np.empty(\n",
    "\n",
    "You might be wondering, why would I use all of these data if I will always have data for my use case? The simple answer is that no model is perfect, and sometimes, a bit of simulation can save you a lot of time in your work. These data craetors are a great help for that.\n",
    "\n",
    "Let's go over some examples of each."
   ]
  },
  {
   "cell_type": "code",
   "execution_count": 111,
   "metadata": {},
   "outputs": [],
   "source": [
    "import matplotlib.pyplot as plt\n",
    "\n",
    "%matplotlib inline"
   ]
  },
  {
   "cell_type": "code",
   "execution_count": 112,
   "metadata": {},
   "outputs": [
    {
     "data": {
      "text/plain": [
       "array([ 0. ,  0.5,  1. ,  1.5,  2. ,  2.5,  3. ,  3.5,  4. ,  4.5,  5. ,\n",
       "        5.5,  6. ,  6.5,  7. ,  7.5,  8. ,  8.5,  9. ,  9.5, 10. , 10.5,\n",
       "       11. , 11.5, 12. , 12.5, 13. , 13.5, 14. , 14.5, 15. , 15.5, 16. ,\n",
       "       16.5, 17. , 17.5, 18. , 18.5, 19. , 19.5, 20. , 20.5, 21. , 21.5,\n",
       "       22. , 22.5, 23. , 23.5, 24. , 24.5, 25. , 25.5, 26. , 26.5, 27. ,\n",
       "       27.5, 28. , 28.5, 29. , 29.5, 30. , 30.5, 31. , 31.5, 32. , 32.5,\n",
       "       33. , 33.5, 34. , 34.5, 35. , 35.5, 36. , 36.5, 37. , 37.5, 38. ,\n",
       "       38.5, 39. , 39.5, 40. , 40.5, 41. , 41.5, 42. , 42.5, 43. , 43.5,\n",
       "       44. , 44.5, 45. , 45.5, 46. , 46.5, 47. , 47.5, 48. , 48.5, 49. ,\n",
       "       49.5])"
      ]
     },
     "execution_count": 112,
     "metadata": {},
     "output_type": "execute_result"
    }
   ],
   "source": [
    "arr1 = np.arange(0, 50, 0.5, dtype='float')\n",
    "arr1"
   ]
  },
  {
   "cell_type": "code",
   "execution_count": 113,
   "metadata": {},
   "outputs": [
    {
     "data": {
      "image/png": "[encoded data removed]",
      "text/plain": [
       "<Figure size 432x288 with 1 Axes>"
      ]
     },
     "metadata": {
      "needs_background": "light"
     },
     "output_type": "display_data"
    }
   ],
   "source": [
    "plt.plot(arr1, (arr1**2))\n",
    "plt.show()"
   ]
  },
  {
   "cell_type": "code",
   "execution_count": 114,
   "metadata": {},
   "outputs": [
    {
     "data": {
      "text/plain": [
       "array([[ 0. ,  0.5,  1. ,  1.5,  2. ,  2.5,  3. ,  3.5,  4. ,  4.5],\n",
       "       [ 5. ,  5.5,  6. ,  6.5,  7. ,  7.5,  8. ,  8.5,  9. ,  9.5],\n",
       "       [10. , 10.5, 11. , 11.5, 12. , 12.5, 13. , 13.5, 14. , 14.5],\n",
       "       [15. , 15.5, 16. , 16.5, 17. , 17.5, 18. , 18.5, 19. , 19.5],\n",
       "       [20. , 20.5, 21. , 21.5, 22. , 22.5, 23. , 23.5, 24. , 24.5],\n",
       "       [25. , 25.5, 26. , 26.5, 27. , 27.5, 28. , 28.5, 29. , 29.5],\n",
       "       [30. , 30.5, 31. , 31.5, 32. , 32.5, 33. , 33.5, 34. , 34.5],\n",
       "       [35. , 35.5, 36. , 36.5, 37. , 37.5, 38. , 38.5, 39. , 39.5],\n",
       "       [40. , 40.5, 41. , 41.5, 42. , 42.5, 43. , 43.5, 44. , 44.5],\n",
       "       [45. , 45.5, 46. , 46.5, 47. , 47.5, 48. , 48.5, 49. , 49.5]])"
      ]
     },
     "execution_count": 114,
     "metadata": {},
     "output_type": "execute_result"
    }
   ],
   "source": [
    "matrix1 = arr1.reshape(10, 10).copy()\n",
    "matrix1"
   ]
  },
  {
   "cell_type": "markdown",
   "metadata": {},
   "source": [
    "You might be wondering why we used the `.copy()` above and the reason is that the data numpy keeps in memory for any given array doesn't change when the pointer changes (i.e. a new variable assignment) unless we create a copy.\n",
    "\n",
    "Let's visualise this with an example."
   ]
  },
  {
   "cell_type": "code",
   "execution_count": 115,
   "metadata": {},
   "outputs": [
    {
     "data": {
      "text/plain": [
       "array([0, 0, 0, 0, 0, 0, 0, 0, 0, 0], dtype=int8)"
      ]
     },
     "execution_count": 115,
     "metadata": {},
     "output_type": "execute_result"
    }
   ],
   "source": [
    "zeros_arr = np.zeros(10, dtype='int8')\n",
    "zeros_arr"
   ]
  },
  {
   "cell_type": "code",
   "execution_count": 116,
   "metadata": {},
   "outputs": [
    {
     "name": "stdout",
     "output_type": "stream",
     "text": [
      "Here is the original array --> [0 0 0 0 0 0 0 0 0 0]\n",
      "-------------------------------------------------------\n",
      "Here is the new, altered array --> [0 0 0 0 5 0 0 0 0 0]\n",
      "-------------------------------------------------------\n",
      "Here is the original again --> [0 0 0 0 5 0 0 0 0 0]\n"
     ]
    }
   ],
   "source": [
    "print(f\"Here is the original array --> {zeros_arr}\") # here is the original array\n",
    "print('-' * 55)\n",
    "\n",
    "new_zeros = zeros_arr # here is our new copy\n",
    "\n",
    "new_zeros[4] = 5 # let's change the value at index 4\n",
    "\n",
    "print(f\"Here is the new, altered array --> {new_zeros}\") # let's print the modified one\n",
    "\n",
    "print('-' * 55)\n",
    "\n",
    "print(f\"Here is the original again --> {zeros_arr}\") # and let's print the original as well"
   ]
  },
  {
   "cell_type": "code",
   "execution_count": 117,
   "metadata": {},
   "outputs": [
    {
     "data": {
      "text/plain": [
       "array([[1., 1., 1., 1., 1.],\n",
       "       [1., 1., 1., 1., 1.],\n",
       "       [1., 1., 1., 1., 1.],\n",
       "       [1., 1., 1., 1., 1.]], dtype=float32)"
      ]
     },
     "execution_count": 117,
     "metadata": {},
     "output_type": "execute_result"
    }
   ],
   "source": [
    "matrix2 = np.ones((4, 5), dtype='float32')\n",
    "matrix2"
   ]
  },
  {
   "cell_type": "code",
   "execution_count": 118,
   "metadata": {},
   "outputs": [
    {
     "data": {
      "text/plain": [
       "array([[6., 6., 6., 6., 6.],\n",
       "       [6., 6., 6., 6., 6.],\n",
       "       [6., 6., 6., 6., 6.],\n",
       "       [6., 6., 6., 6., 6.]], dtype=float32)"
      ]
     },
     "execution_count": 118,
     "metadata": {},
     "output_type": "execute_result"
    }
   ],
   "source": [
    "matrix2 + 5"
   ]
  },
  {
   "cell_type": "code",
   "execution_count": 119,
   "metadata": {},
   "outputs": [
    {
     "data": {
      "text/plain": [
       "array([-10.        ,  -9.7979798 ,  -9.5959596 ,  -9.39393939,\n",
       "        -9.19191919,  -8.98989899,  -8.78787879,  -8.58585859,\n",
       "        -8.38383838,  -8.18181818,  -7.97979798,  -7.77777778,\n",
       "        -7.57575758,  -7.37373737,  -7.17171717,  -6.96969697,\n",
       "        -6.76767677,  -6.56565657,  -6.36363636,  -6.16161616,\n",
       "        -5.95959596,  -5.75757576,  -5.55555556,  -5.35353535,\n",
       "        -5.15151515,  -4.94949495,  -4.74747475,  -4.54545455,\n",
       "        -4.34343434,  -4.14141414,  -3.93939394,  -3.73737374,\n",
       "        -3.53535354,  -3.33333333,  -3.13131313,  -2.92929293,\n",
       "        -2.72727273,  -2.52525253,  -2.32323232,  -2.12121212,\n",
       "        -1.91919192,  -1.71717172,  -1.51515152,  -1.31313131,\n",
       "        -1.11111111,  -0.90909091,  -0.70707071,  -0.50505051,\n",
       "        -0.3030303 ,  -0.1010101 ,   0.1010101 ,   0.3030303 ,\n",
       "         0.50505051,   0.70707071,   0.90909091,   1.11111111,\n",
       "         1.31313131,   1.51515152,   1.71717172,   1.91919192,\n",
       "         2.12121212,   2.32323232,   2.52525253,   2.72727273,\n",
       "         2.92929293,   3.13131313,   3.33333333,   3.53535354,\n",
       "         3.73737374,   3.93939394,   4.14141414,   4.34343434,\n",
       "         4.54545455,   4.74747475,   4.94949495,   5.15151515,\n",
       "         5.35353535,   5.55555556,   5.75757576,   5.95959596,\n",
       "         6.16161616,   6.36363636,   6.56565657,   6.76767677,\n",
       "         6.96969697,   7.17171717,   7.37373737,   7.57575758,\n",
       "         7.77777778,   7.97979798,   8.18181818,   8.38383838,\n",
       "         8.58585859,   8.78787879,   8.98989899,   9.19191919,\n",
       "         9.39393939,   9.5959596 ,   9.7979798 ,  10.        ])"
      ]
     },
     "execution_count": 119,
     "metadata": {},
     "output_type": "execute_result"
    }
   ],
   "source": [
    "arr2 = np.linspace(-10, 10, 100)\n",
    "arr2"
   ]
  },
  {
   "cell_type": "code",
   "execution_count": 121,
   "metadata": {},
   "outputs": [
    {
     "data": {
      "image/png": "[encoded data removed]",
      "text/plain": [
       "<Figure size 432x288 with 1 Axes>"
      ]
     },
     "metadata": {
      "needs_background": "light"
     },
     "output_type": "display_data"
    }
   ],
   "source": [
    "plt.plot(arr2, np.cos(arr2))\n",
    "plt.show()"
   ]
  },
  {
   "cell_type": "code",
   "execution_count": 122,
   "metadata": {},
   "outputs": [
    {
     "data": {
      "text/plain": [
       "array([12, 36, 41, 19, 33, 10, 26,  0,  7, 48, 41, 22, 21,  5, 36, 28, 14,\n",
       "       41,  7, 29, 34, 43, 36, 21,  5, 39, 37, 30, 48, 31, 25,  7, 29, 36,\n",
       "       13, 39, 10, 13, 32, 22, 24, 36, 30, 20,  3, 35, 45,  2, 26, 39, 20,\n",
       "       14, 47, 46, 42, 41, 14, 28,  6, 14,  9, 17,  7, 25, 23, 32, 32, 28,\n",
       "       44, 42,  2,  6, 22,  8,  2, 30, 21, 49, 48, 45, 41,  5, 17,  9, 44,\n",
       "       24, 11,  4, 12, 10, 28,  5, 40,  0,  2, 18,  7,  8, 44, 16],\n",
       "      dtype=int8)"
      ]
     },
     "execution_count": 122,
     "metadata": {},
     "output_type": "execute_result"
    }
   ],
   "source": [
    "arr3 = np.random.randint(low=0, high=50, size=100, dtype='int8')\n",
    "arr3"
   ]
  },
  {
   "cell_type": "code",
   "execution_count": 123,
   "metadata": {},
   "outputs": [
    {
     "data": {
      "image/png": "[encoded data removed]",
      "text/plain": [
       "<Figure size 432x288 with 1 Axes>"
      ]
     },
     "metadata": {
      "needs_background": "light"
     },
     "output_type": "display_data"
    }
   ],
   "source": [
    "plt.plot(sorted(arr3))\n",
    "plt.show()"
   ]
  },
  {
   "cell_type": "code",
   "execution_count": 124,
   "metadata": {
    "scrolled": true
   },
   "outputs": [
    {
     "data": {
      "text/plain": [
       "array([11.16545082,  5.11246219, 13.65439892, 10.80039541, 10.46905635,\n",
       "       11.27051147, 16.88291734,  9.5203    , 16.29274084, 15.37783361,\n",
       "        7.6204335 ,  8.92323318, 23.89331549, -4.83046133,  8.54978105,\n",
       "       10.86029324, 16.13925719,  3.04380449, 14.34982646, 12.79348211,\n",
       "       18.10383149, -4.65751599, 18.06827595,  6.29428312, 14.46894506,\n",
       "       11.89507313,  8.99091013,  8.51374858, 11.14526749, 21.4127257 ,\n",
       "        4.48008539, 20.97374151, 12.2533365 , 15.37635578,  1.57197045,\n",
       "       16.95856282, 18.35355133, 18.92051919,  3.77656275, 11.86944854,\n",
       "       13.96931016, 20.1428117 ,  8.45200057,  8.99587694, 17.0012067 ,\n",
       "        6.20347552, 21.20484908,  9.28317992,  9.88131852, 12.6145665 ,\n",
       "        9.87019625, 14.9404658 , 10.12301673,  3.82852838, 19.87281881,\n",
       "       17.00290213, 12.97915276, 12.03847889, 18.3885546 , -2.64778023,\n",
       "       14.74982405, 28.16941872, -0.48630889, 10.13942054,  8.37566349,\n",
       "        6.29773285, 17.90791983, 20.71817018,  5.35462969,  9.82378456,\n",
       "       19.00950846, 14.31942793, 10.21794989, 16.95819063,  9.69181333,\n",
       "        4.08393836, 10.39263448,  5.56104483, 11.78495811, 11.62764716,\n",
       "       11.57700768, 11.52981386,  9.74384713,  8.18319426, 10.70831937,\n",
       "       10.87811953, 26.17510512, 18.75860158,  5.38758438,  7.83435075,\n",
       "       12.77536142, 12.56056999, 16.76062576,  4.83351982, 11.56386247,\n",
       "       18.59135488, 13.77098406,  9.07800171,  4.2073547 ,  3.9686576 ,\n",
       "       19.80203015, 11.11069829, 17.64951648,  9.34462475, 17.0573007 ,\n",
       "       -4.55068917,  0.14334181, 10.71813089,  8.82919267, 15.85655525,\n",
       "        7.29662456, 19.62000135, 13.34799998, 10.28224069,  1.6975776 ,\n",
       "       14.95035384, -0.33232705,  9.36115398, 17.8741673 , 10.61554814,\n",
       "       19.00745325, 17.1827169 , 11.28449656, 18.08480602,  3.25655584,\n",
       "        1.03982424,  3.733487  , 11.85250687,  8.37616181, 15.73811338,\n",
       "       15.36194096, 11.60188685,  5.00908813,  8.9408852 , 15.05168268,\n",
       "       14.95287481, 11.53989389,  5.28954013, 13.40801203,  6.95090873,\n",
       "        5.36621153,  6.04713309, 17.17265364,  6.43721895, 19.98623964,\n",
       "        7.28860759, 16.58272834,  6.4092683 ,  9.01432058,  7.74246813,\n",
       "       13.97859623,  8.53647324,  8.67754527, 13.04319958,  0.64250997,\n",
       "        8.67294059,  1.2457967 , 22.77471051, 10.00206028,  3.57519782,\n",
       "        5.14167448, 17.46210945, 15.78120365,  8.31096849,  7.35862056,\n",
       "       18.43474611,  1.86849604,  8.10462017,  9.23788825,  8.86513753,\n",
       "       -0.31474278, 10.08098279,  7.42549765, 17.14071801, 21.35890817,\n",
       "       15.10558219, 10.45244944, 12.54563042,  9.94330274, 13.6650899 ,\n",
       "        9.82378498,  9.03393455, 10.15142174, 24.31801135, 15.85552092,\n",
       "        7.39250261,  5.87328653, 13.7617287 ,  8.37836527,  9.51881414,\n",
       "       14.4067361 , 11.32149635,  7.21136839, 14.75818628,  7.37652752,\n",
       "       16.09252722, 28.17379031, 10.57179585, 13.13158406, 17.1981717 ])"
      ]
     },
     "execution_count": 124,
     "metadata": {},
     "output_type": "execute_result"
    }
   ],
   "source": [
    "arr4 = np.random.normal(loc=12, scale=6, size=200)\n",
    "arr4"
   ]
  },
  {
   "cell_type": "code",
   "execution_count": 125,
   "metadata": {},
   "outputs": [
    {
     "data": {
      "image/png": "[encoded data removed]",
      "text/plain": [
       "<Figure size 432x288 with 1 Axes>"
      ]
     },
     "metadata": {
      "needs_background": "light"
     },
     "output_type": "display_data"
    }
   ],
   "source": [
    "plt.hist(arr4, bins=30, color='green')\n",
    "plt.show()"
   ]
  },
  {
   "cell_type": "code",
   "execution_count": 126,
   "metadata": {},
   "outputs": [
    {
     "data": {
      "text/plain": [
       "array([[0.00e+00, 0.00e+00, 0.00e+00, 0.00e+00, 0.00e+00],\n",
       "       [0.00e+00, 0.00e+00, 0.00e+00, 0.00e+00, 0.00e+00],\n",
       "       [2.18e-42, 0.00e+00, 0.00e+00, 0.00e+00, 0.00e+00]], dtype=float32)"
      ]
     },
     "execution_count": 126,
     "metadata": {},
     "output_type": "execute_result"
    }
   ],
   "source": [
    "arr5 = np.empty((3, 5), dtype='float32')\n",
    "arr5"
   ]
  },
  {
   "cell_type": "code",
   "execution_count": 127,
   "metadata": {},
   "outputs": [
    {
     "data": {
      "text/plain": [
       "(3, 5)"
      ]
     },
     "execution_count": 127,
     "metadata": {},
     "output_type": "execute_result"
    }
   ],
   "source": [
    "arr5.shape"
   ]
  },
  {
   "cell_type": "code",
   "execution_count": 128,
   "metadata": {},
   "outputs": [],
   "source": [
    "arr5[0] = (5**2)\n",
    "arr5[1] = (25 / 5)\n",
    "arr5[2] = 17"
   ]
  },
  {
   "cell_type": "code",
   "execution_count": 129,
   "metadata": {},
   "outputs": [
    {
     "data": {
      "text/plain": [
       "array([[25., 25., 25., 25., 25.],\n",
       "       [ 5.,  5.,  5.,  5.,  5.],\n",
       "       [17., 17., 17., 17., 17.]], dtype=float32)"
      ]
     },
     "execution_count": 129,
     "metadata": {},
     "output_type": "execute_result"
    }
   ],
   "source": [
    "arr5"
   ]
  },
  {
   "cell_type": "code",
   "execution_count": 130,
   "metadata": {},
   "outputs": [
    {
     "data": {
      "text/plain": [
       "array([[17, 17, 17, 17, 17],\n",
       "       [17, 17, 17, 17, 17],\n",
       "       [17, 17, 17, 17, 17]], dtype=int8)"
      ]
     },
     "execution_count": 130,
     "metadata": {},
     "output_type": "execute_result"
    }
   ],
   "source": [
    "# Let's create a matrix with a number we like\n",
    "\n",
    "filled_matrix = np.full(shape=(3, 5), fill_value=17, dtype='int8')\n",
    "filled_matrix"
   ]
  },
  {
   "cell_type": "markdown",
   "metadata": {},
   "source": [
    "## Exercise 10"
   ]
  },
  {
   "cell_type": "markdown",
   "metadata": {},
   "source": [
    "Create an empty matrix of dimensions 3 by 4 and add positive numbers to the odd columns and negative numbers to the even ones."
   ]
  },
  {
   "cell_type": "code",
   "execution_count": null,
   "metadata": {},
   "outputs": [],
   "source": []
  },
  {
   "cell_type": "markdown",
   "metadata": {},
   "source": [
    "## Exercise 11"
   ]
  },
  {
   "cell_type": "markdown",
   "metadata": {},
   "source": [
    "- Create a one dimensional array of 80 elements.\n",
    "- All of the elements have to be the same. Use the data type `float32`.\n",
    "- Reshape the array into a matrix of at least 8 rows."
   ]
  },
  {
   "cell_type": "code",
   "execution_count": null,
   "metadata": {},
   "outputs": [],
   "source": []
  },
  {
   "cell_type": "markdown",
   "metadata": {},
   "source": [
    "# 3. Computations with NumPy"
   ]
  },
  {
   "cell_type": "markdown",
   "metadata": {},
   "source": [
    "Let's begin this section with a quick comparison between operations on lists and operations on numpy arrays"
   ]
  },
  {
   "cell_type": "code",
   "execution_count": 131,
   "metadata": {},
   "outputs": [],
   "source": [
    "comp = list(range(100000000))"
   ]
  },
  {
   "cell_type": "code",
   "execution_count": 132,
   "metadata": {},
   "outputs": [
    {
     "name": "stdout",
     "output_type": "stream",
     "text": [
      "Wall time: 41.9 s\n"
     ]
    }
   ],
   "source": [
    "%%time\n",
    "\n",
    "some_list = []\n",
    "for i in comp:\n",
    "    some_list.append(i + 1)"
   ]
  },
  {
   "cell_type": "code",
   "execution_count": 133,
   "metadata": {},
   "outputs": [],
   "source": [
    "np_array = np.arange(100000000)"
   ]
  },
  {
   "cell_type": "code",
   "execution_count": 134,
   "metadata": {},
   "outputs": [],
   "source": [
    "assert len(np_array) == len(comp), \"They don't match!\""
   ]
  },
  {
   "cell_type": "code",
   "execution_count": 135,
   "metadata": {},
   "outputs": [
    {
     "name": "stdout",
     "output_type": "stream",
     "text": [
      "Wall time: 296 ms\n"
     ]
    }
   ],
   "source": [
    "%%time\n",
    "\n",
    "new_arr = np_array + 1"
   ]
  },
  {
   "cell_type": "markdown",
   "metadata": {},
   "source": [
    "# 3.1 Operations"
   ]
  },
  {
   "cell_type": "markdown",
   "metadata": {},
   "source": [
    "To be able to perform element-wise operations with lists we need to either write a loop, a list comprehension, or add it manually. But with numpy, you can do element-wise operations without every writing a loop so long as your arrays are always of the same lenght or have a matching structure for matrices and arrays. This last part is out of the scope of this course but it is important to learn about n-dimensional array operations to do more advanced work.\n",
    "\n",
    "Let's begin by adding two arrays."
   ]
  },
  {
   "cell_type": "code",
   "execution_count": 137,
   "metadata": {},
   "outputs": [
    {
     "data": {
      "text/plain": [
       "[1, 2, 3, 4, 5, 6]"
      ]
     },
     "execution_count": 137,
     "metadata": {},
     "output_type": "execute_result"
    }
   ],
   "source": [
    "[1, 2, 3] + [4, 5, 6]"
   ]
  },
  {
   "cell_type": "code",
   "execution_count": 138,
   "metadata": {},
   "outputs": [
    {
     "data": {
      "text/plain": [
       "array([12,  7,  8])"
      ]
     },
     "execution_count": 138,
     "metadata": {},
     "output_type": "execute_result"
    }
   ],
   "source": [
    "array1 = np.array([3, 2, 1])\n",
    "array2 = np.array([9, 5, 7])\n",
    "\n",
    "array1 + array2"
   ]
  },
  {
   "cell_type": "markdown",
   "metadata": {},
   "source": [
    "Notice what happens when we try to add two arrays with different lengths."
   ]
  },
  {
   "cell_type": "code",
   "execution_count": 140,
   "metadata": {},
   "outputs": [
    {
     "ename": "ValueError",
     "evalue": "operands could not be broadcast together with shapes (4,) (3,) ",
     "output_type": "error",
     "traceback": [
      "\u001b[1;31m---------------------------------------------------------------------------\u001b[0m",
      "\u001b[1;31mValueError\u001b[0m                                Traceback (most recent call last)",
      "\u001b[1;32m<ipython-input-140-d17fef96710d>\u001b[0m in \u001b[0;36m<module>\u001b[1;34m\u001b[0m\n\u001b[0;32m      3\u001b[0m \u001b[0marray2\u001b[0m \u001b[1;33m=\u001b[0m \u001b[0mnp\u001b[0m\u001b[1;33m.\u001b[0m\u001b[0marray\u001b[0m\u001b[1;33m(\u001b[0m\u001b[1;33m[\u001b[0m\u001b[1;36m9\u001b[0m\u001b[1;33m,\u001b[0m \u001b[1;36m5\u001b[0m\u001b[1;33m,\u001b[0m \u001b[1;36m7\u001b[0m\u001b[1;33m]\u001b[0m\u001b[1;33m)\u001b[0m\u001b[1;33m\u001b[0m\u001b[1;33m\u001b[0m\u001b[0m\n\u001b[0;32m      4\u001b[0m \u001b[1;33m\u001b[0m\u001b[0m\n\u001b[1;32m----> 5\u001b[1;33m \u001b[0marray1\u001b[0m \u001b[1;33m+\u001b[0m \u001b[0marray2\u001b[0m\u001b[1;33m\u001b[0m\u001b[1;33m\u001b[0m\u001b[0m\n\u001b[0m",
      "\u001b[1;31mValueError\u001b[0m: operands could not be broadcast together with shapes (4,) (3,) "
     ]
    }
   ],
   "source": [
    "# If the arrays do not have the same length, numpy will give us an error\n",
    "array1 = np.array([3, 2, 1, 6])\n",
    "array2 = np.array([9, 5, 7])\n",
    "\n",
    "array1 + array2"
   ]
  },
  {
   "cell_type": "markdown",
   "metadata": {},
   "source": [
    "If the arrays don't have the same length, numpy will give us an error.\n",
    "\n",
    "We can also do element-wise operations on arrays using the rest of the mathematical functions we saw on lesson 1."
   ]
  },
  {
   "cell_type": "code",
   "execution_count": 143,
   "metadata": {},
   "outputs": [
    {
     "name": "stdout",
     "output_type": "stream",
     "text": [
      "[33.67 11.5  13.32]\n",
      "------------------------------\n",
      "[0.40659341 0.46       0.24324324]\n",
      "------------------------------\n",
      "[1.48127499e+05 6.43634300e+01 7.74491290e+01]\n",
      "------------------------------\n",
      "[-5.4 -2.7 -5.6]\n"
     ]
    }
   ],
   "source": [
    "array3 = np.array([3.7, 2.3, 1.8])\n",
    "array4 = np.array([9.1, 5, 7.4])\n",
    "print(array3 * array4) # multiplication\n",
    "print(\"-\" * 30)\n",
    "print(array3 / array4) # division\n",
    "print(\"-\" * 30)\n",
    "print(array3 ** array4) # exponent\n",
    "print(\"-\" * 30)\n",
    "print(array3 - array4) # subtraction"
   ]
  },
  {
   "cell_type": "markdown",
   "metadata": {},
   "source": [
    "You also get the same functionality with a single number, only this time the single number will be applied to all elements in your array. This is also called broadcasting, and it is what we saw in the speed comparison at the beginning of this section."
   ]
  },
  {
   "cell_type": "code",
   "execution_count": 144,
   "metadata": {},
   "outputs": [
    {
     "name": "stdout",
     "output_type": "stream",
     "text": [
      "[336.7 115.  133.2]\n",
      "------------------------------\n",
      "[0.02032967 0.023      0.01216216]\n",
      "------------------------------\n",
      "[2.19417558e+10 4.14265112e+03 5.99836758e+03]\n",
      "------------------------------\n",
      "[-9.4 -6.7 -9.6]\n",
      "------------------------------\n",
      "[11.1  6.9  5.4]\n",
      "------------------------------\n",
      "[0.37 0.23 0.18]\n",
      "------------------------------\n",
      "[50.653 12.167  5.832]\n",
      "------------------------------\n",
      "[23.7 22.3 21.8]\n"
     ]
    }
   ],
   "source": [
    "print((array3 * array4) * 10) # multiplication\n",
    "print(\"-\" * 30)\n",
    "print((array3 / array4) / 20) # division\n",
    "print(\"-\" * 30)\n",
    "print((array3 ** array4) ** 2) # exponent\n",
    "print(\"-\" * 30)\n",
    "print((array3 - array4) - 4) # subtraction\n",
    "print(\"-\" * 30)\n",
    "print(array3 * 3) # multiplication\n",
    "print(\"-\" * 30)\n",
    "print(array3 / 10) # division\n",
    "print(\"-\" * 30)\n",
    "print(array3 ** 3) # exponent\n",
    "print(\"-\" * 30)\n",
    "print(array3 - (-20)) # subtraction"
   ]
  },
  {
   "cell_type": "code",
   "execution_count": 145,
   "metadata": {},
   "outputs": [
    {
     "data": {
      "text/plain": [
       "array([ 7, 16, 10,  7, 12,  5,  6,  9,  8,  9, 12,  6,  5,  6,  8,  6,  7,\n",
       "       15,  8,  8, 17, 12,  7, 18, 17, 10, 18, 17, 11, 17,  6,  8,  7, 12,\n",
       "       12, 13, 17, 14, 12, 14])"
      ]
     },
     "execution_count": 145,
     "metadata": {},
     "output_type": "execute_result"
    }
   ],
   "source": [
    "# random arrays are useful for testing\n",
    "auto_array_1 = np.random.randint(low=5, high=20, size=40)\n",
    "auto_array_1"
   ]
  },
  {
   "cell_type": "markdown",
   "metadata": {},
   "source": [
    "If we wanted to make this one dimensional array a two-dimensional one, e.g. a matrix, we could do it with the method `.reshape()`, which takes as arguments the dimensions the new matrix should have. Please remember, the first number is always the rows and the second is always the columns.\n",
    "\n",
    "What we have to keep in mind though is that the reshaped version has to match the amount of element in the array. For example, a one dimensional array with 20 elements can only be reshaped into a matrix of:\n",
    "- 2 rows and 10 columns (2, 10)\n",
    "- 10 rows and 2 columns (10, 2)\n",
    "- 4 rows and 5 columns (4, 5)\n",
    "- 5 rows and 4 columns (5, 4)"
   ]
  },
  {
   "cell_type": "code",
   "execution_count": 146,
   "metadata": {},
   "outputs": [
    {
     "data": {
      "text/plain": [
       "40"
      ]
     },
     "execution_count": 146,
     "metadata": {},
     "output_type": "execute_result"
    }
   ],
   "source": [
    "len(auto_array_1)"
   ]
  },
  {
   "cell_type": "code",
   "execution_count": 147,
   "metadata": {},
   "outputs": [
    {
     "name": "stdout",
     "output_type": "stream",
     "text": [
      "New matrix: \n",
      " [[ 7 16 10  7 12  5  6  9]\n",
      " [ 8  9 12  6  5  6  8  6]\n",
      " [ 7 15  8  8 17 12  7 18]\n",
      " [17 10 18 17 11 17  6  8]\n",
      " [ 7 12 12 13 17 14 12 14]]\n",
      "Same array: \n",
      " [ 7 16 10  7 12  5  6  9  8  9 12  6  5  6  8  6  7 15  8  8 17 12  7 18\n",
      " 17 10 18 17 11 17  6  8  7 12 12 13 17 14 12 14]\n"
     ]
    }
   ],
   "source": [
    "# The reshape matrix (rows x columns) needs to match the same length as the array, e.g.(5, 8), (4, 10), (2,20).\n",
    "print(f\"New matrix: \\n {auto_array_1.reshape(5, 8)}\")\n",
    "print(f\"Same array: \\n {auto_array_1}\")"
   ]
  },
  {
   "cell_type": "markdown",
   "metadata": {},
   "source": [
    "The `.reshape()` method does not work inplace so we would have to assign the new matrix to a new variable and chain the method `.copy()` to it if we want this new matrix to be unique."
   ]
  },
  {
   "cell_type": "code",
   "execution_count": 148,
   "metadata": {},
   "outputs": [
    {
     "data": {
      "text/plain": [
       "array([[ 7, 16, 10,  7, 12,  5,  6,  9],\n",
       "       [ 8,  9, 12,  6,  5,  6,  8,  6],\n",
       "       [ 7, 15,  8,  8, 17, 12,  7, 18],\n",
       "       [17, 10, 18, 17, 11, 17,  6,  8],\n",
       "       [ 7, 12, 12, 13, 17, 14, 12, 14]])"
      ]
     },
     "execution_count": 148,
     "metadata": {},
     "output_type": "execute_result"
    }
   ],
   "source": [
    "auto_matrix_1 = auto_array_1.reshape(5, 8).copy()\n",
    "auto_matrix_1"
   ]
  },
  {
   "cell_type": "markdown",
   "metadata": {},
   "source": [
    "The opposite to reshape would be `.ravel()`. This method takes in a matrix of any shape and form and returns a 1-dimensional (or flattened) array."
   ]
  },
  {
   "cell_type": "code",
   "execution_count": 149,
   "metadata": {},
   "outputs": [
    {
     "name": "stdout",
     "output_type": "stream",
     "text": [
      "Original array --> [ 7 16 10  7 12  5  6  9  8  9 12  6  5  6  8  6  7 15  8  8 17 12  7 18\n",
      " 17 10 18 17 11 17  6  8  7 12 12 13 17 14 12 14]\n",
      "---------------------------------------------\n",
      "New, unraveled array --> [ 7 16 10  7 12  5  6  9  8  9 12  6  5  6  8  6  7 15  8  8 17 12  7 18\n",
      " 17 10 18 17 11 17  6  8  7 12 12 13 17 14 12 14]\n"
     ]
    }
   ],
   "source": [
    "print(\"Original array --> {}\".format(auto_array_1))\n",
    "print(\"-\" * 45)\n",
    "auto_array_2 = auto_matrix_1.ravel().copy()\n",
    "print(\"New, unraveled array --> {}\".format(auto_array_2))"
   ]
  },
  {
   "cell_type": "markdown",
   "metadata": {},
   "source": [
    "# 3.2 Descriptive Statistics on Arrays"
   ]
  },
  {
   "cell_type": "markdown",
   "metadata": {},
   "source": [
    "Now that we have learned how to create arrays, there are many things we can try to understand about them. For example, we can add all of the numbers, get their range, max and min values, the square root, or how many even/odd numbers are in the array.\n",
    "\n",
    "Descriptive statistics is one of the many branches of the mathematical field of Statistics. It gives us tools to interrogate the data and figure out what has happened and which hypotheses can we come up with as we examine our data.\n",
    "\n",
    "You can also think of descriptive statistics a regular analysis of data where no predictions of fancy modeling takes place. The importance of descriptive statistics in the data analytics/science cycle is monumental. It helps us examine our data and more often than not find dirty messes that we had not previously encountered.\n",
    "\n",
    "Some useful statistics you should always begin with are:\n",
    "\n",
    "- Minimum\n",
    "- 25th percentile\n",
    "- Median\n",
    "- Mean\n",
    "- Mode\n",
    "- 75th percentile\n",
    "- Maximum\n",
    "- Count\n",
    "- Sum\n",
    "- Square Root of the sum of the array\n",
    "- Standard deviation\n",
    "- Variance\n",
    "- the list could be longer..."
   ]
  },
  {
   "cell_type": "code",
   "execution_count": 150,
   "metadata": {},
   "outputs": [
    {
     "data": {
      "text/plain": [
       "array([ 7, 16, 10,  7, 12,  5,  6,  9,  8,  9, 12,  6,  5,  6,  8,  6,  7,\n",
       "       15,  8,  8, 17, 12,  7, 18, 17, 10, 18, 17, 11, 17,  6,  8,  7, 12,\n",
       "       12, 13, 17, 14, 12, 14])"
      ]
     },
     "execution_count": 150,
     "metadata": {},
     "output_type": "execute_result"
    }
   ],
   "source": [
    "auto_array_1"
   ]
  },
  {
   "cell_type": "code",
   "execution_count": 151,
   "metadata": {
    "scrolled": true
   },
   "outputs": [
    {
     "data": {
      "text/plain": [
       "[5,\n",
       " 5,\n",
       " 6,\n",
       " 6,\n",
       " 6,\n",
       " 6,\n",
       " 6,\n",
       " 7,\n",
       " 7,\n",
       " 7,\n",
       " 7,\n",
       " 7,\n",
       " 8,\n",
       " 8,\n",
       " 8,\n",
       " 8,\n",
       " 8,\n",
       " 9,\n",
       " 9,\n",
       " 10,\n",
       " 10,\n",
       " 11,\n",
       " 12,\n",
       " 12,\n",
       " 12,\n",
       " 12,\n",
       " 12,\n",
       " 12,\n",
       " 13,\n",
       " 14,\n",
       " 14,\n",
       " 15,\n",
       " 16,\n",
       " 17,\n",
       " 17,\n",
       " 17,\n",
       " 17,\n",
       " 17,\n",
       " 18,\n",
       " 18]"
      ]
     },
     "execution_count": 151,
     "metadata": {},
     "output_type": "execute_result"
    }
   ],
   "source": [
    "sorted(auto_array_1)"
   ]
  },
  {
   "cell_type": "code",
   "execution_count": 152,
   "metadata": {},
   "outputs": [
    {
     "name": "stdout",
     "output_type": "stream",
     "text": [
      "Minimum Value: 5\n",
      "25th percentile: 7.0\n",
      "Median: 10.0\n",
      "Average: 10.725\n",
      "75th percentile: 14.0\n",
      "Maximum Value: 18\n",
      "Count: 40\n",
      "Total Sum: 429\n",
      "Square root: 20.71231517720798\n",
      "Sandard Deviation: 4.110884941226159\n",
      "Variance: 16.899375\n"
     ]
    }
   ],
   "source": [
    "print(f\"Minimum Value: {np.min(auto_array_1)}\")\n",
    "print(f\"25th percentile: {np.percentile(auto_array_1, 25)}\")\n",
    "print(f\"Median: {np.median(auto_array_1)}\")\n",
    "print(f\"Average: {np.mean(auto_array_1)}\")\n",
    "print(f\"75th percentile: {np.percentile(auto_array_1, 75)}\")\n",
    "print(f\"Maximum Value: {np.max(auto_array_1)}\")\n",
    "print(f\"Count: {auto_array_1.size}\")\n",
    "print(f\"Total Sum: {np.sum(auto_array_1)}\")\n",
    "print(f\"Square root: {np.sqrt(np.sum(auto_array_1))}\")\n",
    "print(f\"Sandard Deviation: {np.std(auto_array_1)}\")\n",
    "print(f\"Variance: {np.var(auto_array_1)}\")"
   ]
  },
  {
   "cell_type": "markdown",
   "metadata": {},
   "source": [
    "# Exercise"
   ]
  },
  {
   "cell_type": "markdown",
   "metadata": {},
   "source": [
    "Build a function that takes in an array and prints at least 5 of the descriptive statistics shown above. Name it `clue_finder`."
   ]
  },
  {
   "cell_type": "code",
   "execution_count": null,
   "metadata": {},
   "outputs": [],
   "source": []
  },
  {
   "cell_type": "markdown",
   "metadata": {},
   "source": [
    "# Exercise"
   ]
  },
  {
   "cell_type": "markdown",
   "metadata": {},
   "source": [
    "Sum every second column of a matrix with dimensions (6, 8), staring from the first column. Create the matrix with random integers."
   ]
  },
  {
   "cell_type": "code",
   "execution_count": null,
   "metadata": {},
   "outputs": [],
   "source": []
  },
  {
   "cell_type": "code",
   "execution_count": null,
   "metadata": {},
   "outputs": [],
   "source": []
  },
  {
   "cell_type": "markdown",
   "metadata": {},
   "source": [
    "# 3.3 Combining Arrays"
   ]
  },
  {
   "cell_type": "markdown",
   "metadata": {},
   "source": [
    "Sometimes we will need to combine different arrays containing valuable information for a particular analysis. NumPy has three particular ways in which it allows us to do this:\n",
    "\n",
    "- `np.vstack()` allows you to stack multiple arrays on top of one another, i.e. row-wise\n",
    "- `np.hstack()` allows you to stack arrays next to each other, i.e. column-wise\n",
    "- `np.concatenate()` gives you both stacking options, vertical and horizontal stacking\n",
    "\n",
    "Let's have a look at all three of these.\n",
    "\n",
    "\n",
    "![stacking](https://raw.githubusercontent.com/CoderAcademyEdu/intro-python-4-da/b91c0c49ee2c5be6415b8506d5d2d07e00e3917b/lesson_2/pictures/stacking.jpeg?token=AJXSBW4ZAJHOZOA7U3SRR3C6YC5MM)"
   ]
  },
  {
   "cell_type": "code",
   "execution_count": 153,
   "metadata": {},
   "outputs": [
    {
     "name": "stdout",
     "output_type": "stream",
     "text": [
      "Here is the row len of x --> 5, y --> 5, and z --> 5\n"
     ]
    }
   ],
   "source": [
    "x = np.arange(0, 20).reshape(5, 4)\n",
    "y = np.linspace(0, 9, 20).reshape(5, 4)\n",
    "z = np.ones(20).reshape(5, 4)\n",
    "\n",
    "print(\"Here is the row len of x --> %i, y --> %i, and z --> %i\" % (len(x), len(y), len(z)))"
   ]
  },
  {
   "cell_type": "code",
   "execution_count": 154,
   "metadata": {},
   "outputs": [
    {
     "data": {
      "text/plain": [
       "(array([[ 0,  1,  2,  3],\n",
       "        [ 4,  5,  6,  7],\n",
       "        [ 8,  9, 10, 11],\n",
       "        [12, 13, 14, 15],\n",
       "        [16, 17, 18, 19]]),\n",
       " array([[0.        , 0.47368421, 0.94736842, 1.42105263],\n",
       "        [1.89473684, 2.36842105, 2.84210526, 3.31578947],\n",
       "        [3.78947368, 4.26315789, 4.73684211, 5.21052632],\n",
       "        [5.68421053, 6.15789474, 6.63157895, 7.10526316],\n",
       "        [7.57894737, 8.05263158, 8.52631579, 9.        ]]),\n",
       " array([[1., 1., 1., 1.],\n",
       "        [1., 1., 1., 1.],\n",
       "        [1., 1., 1., 1.],\n",
       "        [1., 1., 1., 1.],\n",
       "        [1., 1., 1., 1.]]))"
      ]
     },
     "execution_count": 154,
     "metadata": {},
     "output_type": "execute_result"
    }
   ],
   "source": [
    "x, y, z"
   ]
  },
  {
   "cell_type": "code",
   "execution_count": 155,
   "metadata": {},
   "outputs": [
    {
     "data": {
      "text/plain": [
       "array([[ 0.        ,  1.        ,  2.        ,  3.        ,  0.        ,\n",
       "         0.47368421,  0.94736842,  1.42105263],\n",
       "       [ 4.        ,  5.        ,  6.        ,  7.        ,  1.89473684,\n",
       "         2.36842105,  2.84210526,  3.31578947],\n",
       "       [ 8.        ,  9.        , 10.        , 11.        ,  3.78947368,\n",
       "         4.26315789,  4.73684211,  5.21052632],\n",
       "       [12.        , 13.        , 14.        , 15.        ,  5.68421053,\n",
       "         6.15789474,  6.63157895,  7.10526316],\n",
       "       [16.        , 17.        , 18.        , 19.        ,  7.57894737,\n",
       "         8.05263158,  8.52631579,  9.        ]])"
      ]
     },
     "execution_count": 155,
     "metadata": {},
     "output_type": "execute_result"
    }
   ],
   "source": [
    "# Horizontal Stack\n",
    "h_level1 = np.hstack([x, y])\n",
    "h_level1"
   ]
  },
  {
   "cell_type": "code",
   "execution_count": 157,
   "metadata": {},
   "outputs": [
    {
     "data": {
      "text/plain": [
       "array([[ 0.        ,  1.        ,  2.        ,  3.        ,  0.        ,\n",
       "         0.47368421,  0.94736842,  1.42105263,  3.        ,  3.        ,\n",
       "         3.        ,  3.        ],\n",
       "       [ 4.        ,  5.        ,  6.        ,  7.        ,  1.89473684,\n",
       "         2.36842105,  2.84210526,  3.31578947,  3.        ,  3.        ,\n",
       "         3.        ,  3.        ],\n",
       "       [ 8.        ,  9.        , 10.        , 11.        ,  3.78947368,\n",
       "         4.26315789,  4.73684211,  5.21052632,  3.        ,  3.        ,\n",
       "         3.        ,  3.        ],\n",
       "       [12.        , 13.        , 14.        , 15.        ,  5.68421053,\n",
       "         6.15789474,  6.63157895,  7.10526316,  3.        ,  3.        ,\n",
       "         3.        ,  3.        ],\n",
       "       [16.        , 17.        , 18.        , 19.        ,  7.57894737,\n",
       "         8.05263158,  8.52631579,  9.        ,  3.        ,  3.        ,\n",
       "         3.        ,  3.        ]])"
      ]
     },
     "execution_count": 157,
     "metadata": {},
     "output_type": "execute_result"
    }
   ],
   "source": [
    "h_level2 = np.hstack([h_level1, z + 2])\n",
    "h_level2"
   ]
  },
  {
   "cell_type": "code",
   "execution_count": 158,
   "metadata": {},
   "outputs": [
    {
     "data": {
      "text/plain": [
       "array([[ 0.        ,  1.        ,  2.        ,  3.        ],\n",
       "       [ 4.        ,  5.        ,  6.        ,  7.        ],\n",
       "       [ 8.        ,  9.        , 10.        , 11.        ],\n",
       "       [12.        , 13.        , 14.        , 15.        ],\n",
       "       [16.        , 17.        , 18.        , 19.        ],\n",
       "       [ 0.        ,  0.47368421,  0.94736842,  1.42105263],\n",
       "       [ 1.89473684,  2.36842105,  2.84210526,  3.31578947],\n",
       "       [ 3.78947368,  4.26315789,  4.73684211,  5.21052632],\n",
       "       [ 5.68421053,  6.15789474,  6.63157895,  7.10526316],\n",
       "       [ 7.57894737,  8.05263158,  8.52631579,  9.        ]])"
      ]
     },
     "execution_count": 158,
     "metadata": {},
     "output_type": "execute_result"
    }
   ],
   "source": [
    "v_level1 = np.vstack([x, y])\n",
    "v_level1"
   ]
  },
  {
   "cell_type": "code",
   "execution_count": 159,
   "metadata": {},
   "outputs": [
    {
     "data": {
      "text/plain": [
       "array([[ 0.        ,  1.        ,  2.        ,  3.        ],\n",
       "       [ 4.        ,  5.        ,  6.        ,  7.        ],\n",
       "       [ 8.        ,  9.        , 10.        , 11.        ],\n",
       "       [12.        , 13.        , 14.        , 15.        ],\n",
       "       [16.        , 17.        , 18.        , 19.        ],\n",
       "       [ 0.        ,  0.47368421,  0.94736842,  1.42105263],\n",
       "       [ 1.89473684,  2.36842105,  2.84210526,  3.31578947],\n",
       "       [ 3.78947368,  4.26315789,  4.73684211,  5.21052632],\n",
       "       [ 5.68421053,  6.15789474,  6.63157895,  7.10526316],\n",
       "       [ 7.57894737,  8.05263158,  8.52631579,  9.        ],\n",
       "       [ 4.        ,  4.        ,  4.        ,  4.        ],\n",
       "       [ 4.        ,  4.        ,  4.        ,  4.        ],\n",
       "       [ 4.        ,  4.        ,  4.        ,  4.        ],\n",
       "       [ 4.        ,  4.        ,  4.        ,  4.        ],\n",
       "       [ 4.        ,  4.        ,  4.        ,  4.        ]])"
      ]
     },
     "execution_count": 159,
     "metadata": {},
     "output_type": "execute_result"
    }
   ],
   "source": [
    "v_level2 = np.vstack([v_level1, z + 3])\n",
    "v_level2"
   ]
  },
  {
   "cell_type": "code",
   "execution_count": 160,
   "metadata": {},
   "outputs": [
    {
     "data": {
      "text/plain": [
       "array([[ 0.        ,  1.        ,  2.        ,  3.        ,  0.        ,\n",
       "         0.47368421,  0.94736842,  1.42105263,  1.        ,  1.        ,\n",
       "         1.        ,  1.        ],\n",
       "       [ 4.        ,  5.        ,  6.        ,  7.        ,  1.89473684,\n",
       "         2.36842105,  2.84210526,  3.31578947,  1.        ,  1.        ,\n",
       "         1.        ,  1.        ],\n",
       "       [ 8.        ,  9.        , 10.        , 11.        ,  3.78947368,\n",
       "         4.26315789,  4.73684211,  5.21052632,  1.        ,  1.        ,\n",
       "         1.        ,  1.        ],\n",
       "       [12.        , 13.        , 14.        , 15.        ,  5.68421053,\n",
       "         6.15789474,  6.63157895,  7.10526316,  1.        ,  1.        ,\n",
       "         1.        ,  1.        ],\n",
       "       [16.        , 17.        , 18.        , 19.        ,  7.57894737,\n",
       "         8.05263158,  8.52631579,  9.        ,  1.        ,  1.        ,\n",
       "         1.        ,  1.        ]])"
      ]
     },
     "execution_count": 160,
     "metadata": {},
     "output_type": "execute_result"
    }
   ],
   "source": [
    "c_level1 = np.concatenate([x, y, z], axis=1)\n",
    "c_level1"
   ]
  },
  {
   "cell_type": "code",
   "execution_count": 161,
   "metadata": {},
   "outputs": [
    {
     "data": {
      "text/plain": [
       "array([[ 0.        ,  1.        ,  2.        ,  3.        ],\n",
       "       [ 4.        ,  5.        ,  6.        ,  7.        ],\n",
       "       [ 8.        ,  9.        , 10.        , 11.        ],\n",
       "       [12.        , 13.        , 14.        , 15.        ],\n",
       "       [16.        , 17.        , 18.        , 19.        ],\n",
       "       [ 0.        ,  0.47368421,  0.94736842,  1.42105263],\n",
       "       [ 1.89473684,  2.36842105,  2.84210526,  3.31578947],\n",
       "       [ 3.78947368,  4.26315789,  4.73684211,  5.21052632],\n",
       "       [ 5.68421053,  6.15789474,  6.63157895,  7.10526316],\n",
       "       [ 7.57894737,  8.05263158,  8.52631579,  9.        ],\n",
       "       [ 1.        ,  1.        ,  1.        ,  1.        ],\n",
       "       [ 1.        ,  1.        ,  1.        ,  1.        ],\n",
       "       [ 1.        ,  1.        ,  1.        ,  1.        ],\n",
       "       [ 1.        ,  1.        ,  1.        ,  1.        ],\n",
       "       [ 1.        ,  1.        ,  1.        ,  1.        ]])"
      ]
     },
     "execution_count": 161,
     "metadata": {},
     "output_type": "execute_result"
    }
   ],
   "source": [
    "c_level2 = np.concatenate([x, y, z], axis=0)\n",
    "c_level2"
   ]
  },
  {
   "cell_type": "markdown",
   "metadata": {},
   "source": [
    "# 3.4 Masking"
   ]
  },
  {
   "cell_type": "markdown",
   "metadata": {},
   "source": [
    "In the previous lesson, we explored conditional statements with if, elif's, and else constructors and noticed how powerful these functionalities can be when we try to evaluate statements based on logical conditions.\n",
    "\n",
    "One of the most common tasks of a data analyst is to dig deep into the data to figure out interesting relationships and patterns that could help us answer important questions. One way to achieve this is through filtering out data based on a given condition or set of conditions. NumPy allows us to do this quite efficiently and we will how to do this in this section.\n",
    "\n",
    "Say we have an array of temperatures in farenheit format, for a year, and we want to know how many days of the year the temperature was higher than 70 (a nice day sunny day 🌤)."
   ]
  },
  {
   "cell_type": "code",
   "execution_count": 162,
   "metadata": {},
   "outputs": [
    {
     "data": {
      "text/plain": [
       "array([110,  42,  51,  55,  61,  81,  -1, -16,  28,  65,  76,  -1,  23,\n",
       "        12,  37,  -7,  -6, 104,   9,  89], dtype=int8)"
      ]
     },
     "execution_count": 162,
     "metadata": {},
     "output_type": "execute_result"
    }
   ],
   "source": [
    "year_temp = np.random.randint(low=-30, high=115, size=360, dtype='int8')\n",
    "year_temp[:20]"
   ]
  },
  {
   "cell_type": "markdown",
   "metadata": {},
   "source": [
    "After we have our array of temperatures for the year, we can move on to creating the condition we want."
   ]
  },
  {
   "cell_type": "code",
   "execution_count": 163,
   "metadata": {
    "scrolled": true
   },
   "outputs": [
    {
     "data": {
      "text/plain": [
       "array([ True, False, False, False, False,  True, False, False, False,\n",
       "       False,  True, False, False, False, False, False, False,  True,\n",
       "       False,  True, False,  True, False,  True, False, False, False,\n",
       "       False,  True, False, False,  True, False,  True,  True, False,\n",
       "       False,  True, False, False,  True, False, False, False,  True,\n",
       "       False, False, False,  True, False,  True,  True, False,  True,\n",
       "        True,  True, False, False, False, False, False, False, False,\n",
       "       False, False, False,  True, False,  True, False, False, False,\n",
       "       False, False, False, False, False, False, False, False,  True,\n",
       "        True, False, False, False, False, False, False, False,  True,\n",
       "       False, False, False, False,  True, False, False, False,  True,\n",
       "       False, False, False, False, False,  True,  True,  True, False,\n",
       "       False, False, False, False,  True, False, False, False, False,\n",
       "       False, False,  True, False, False, False,  True,  True, False,\n",
       "       False,  True, False, False, False, False,  True, False, False,\n",
       "        True, False, False,  True,  True,  True, False, False,  True,\n",
       "       False,  True, False, False, False, False, False, False, False,\n",
       "        True, False, False,  True, False, False, False, False, False,\n",
       "       False,  True, False, False, False,  True, False,  True, False,\n",
       "       False,  True, False, False,  True, False, False,  True, False,\n",
       "       False, False, False,  True, False, False, False, False, False,\n",
       "        True, False, False, False, False,  True, False, False, False,\n",
       "        True, False, False, False,  True, False, False, False,  True,\n",
       "       False, False, False, False, False, False, False, False,  True,\n",
       "        True, False,  True, False, False, False, False,  True, False,\n",
       "       False,  True,  True, False, False,  True, False, False, False,\n",
       "       False, False, False, False, False,  True, False,  True, False,\n",
       "       False, False, False,  True, False,  True, False, False, False,\n",
       "        True, False, False, False, False, False,  True, False, False,\n",
       "       False, False, False, False,  True, False, False,  True, False,\n",
       "       False,  True, False, False, False,  True, False, False, False,\n",
       "       False, False, False, False,  True,  True,  True,  True, False,\n",
       "        True, False, False, False,  True, False, False,  True,  True,\n",
       "       False, False, False,  True, False,  True, False, False, False,\n",
       "       False, False, False, False, False, False, False, False, False,\n",
       "       False,  True,  True, False, False, False, False, False, False,\n",
       "       False, False, False, False, False, False, False, False, False,\n",
       "       False, False,  True, False, False, False, False, False, False,\n",
       "       False, False, False, False, False, False, False, False, False,\n",
       "        True, False, False, False,  True,  True, False, False, False])"
      ]
     },
     "execution_count": 163,
     "metadata": {},
     "output_type": "execute_result"
    }
   ],
   "source": [
    "nice_days_mask = (year_temp > 70)\n",
    "nice_days_mask"
   ]
  },
  {
   "cell_type": "markdown",
   "metadata": {},
   "source": [
    "Notice that we now have an array of booleans where the True's corresponde to the days that where the temperature was greater than 70 and the False's to the days where it was equal to or lower than 70. Now, if we pass our new variable of booleans as an index to our `year_temp` array, we will get only the values we want."
   ]
  },
  {
   "cell_type": "code",
   "execution_count": 164,
   "metadata": {},
   "outputs": [
    {
     "data": {
      "text/plain": [
       "array([110,  81,  76, 104,  89, 103,  97,  84, 101,  89, 106,  84,  81,\n",
       "       107,  78,  71,  93, 111,  75, 103, 108, 101,  81,  92,  96,  74,\n",
       "        75, 107,  75, 106, 107,  91, 112,  75, 112,  96,  82,  95,  75,\n",
       "        83,  97, 110,  94,  81,  80, 107, 111,  81,  84,  93,  94, 105,\n",
       "       110,  88,  71,  99,  97,  83,  95, 102,  74,  79,  72,  95,  80,\n",
       "        94,  97,  72, 101,  79,  83,  74,  82,  92,  85, 112, 113, 109,\n",
       "        81, 107, 114,  74, 100,  91, 105,  84,  91, 107, 111], dtype=int8)"
      ]
     },
     "execution_count": 164,
     "metadata": {},
     "output_type": "execute_result"
    }
   ],
   "source": [
    "nice_days = year_temp[nice_days_mask]\n",
    "nice_days"
   ]
  },
  {
   "cell_type": "code",
   "execution_count": 165,
   "metadata": {},
   "outputs": [
    {
     "data": {
      "text/plain": [
       "89"
      ]
     },
     "execution_count": 165,
     "metadata": {},
     "output_type": "execute_result"
    }
   ],
   "source": [
    "nice_days.size"
   ]
  },
  {
   "cell_type": "markdown",
   "metadata": {},
   "source": [
    "Now we can move on to answer some useful questions about our new filtered data. For example, we can examine the max temperature experience during the nice days, or we could check out the average to understand what was the most common temperature during the nice days."
   ]
  },
  {
   "cell_type": "code",
   "execution_count": 166,
   "metadata": {},
   "outputs": [
    {
     "name": "stdout",
     "output_type": "stream",
     "text": [
      "The Average temperature on nice days was 92 F ☀️\n"
     ]
    }
   ],
   "source": [
    "print(\"The Average temperature on nice days was %i F ☀️\" % np.mean(nice_days))"
   ]
  },
  {
   "cell_type": "code",
   "execution_count": 167,
   "metadata": {},
   "outputs": [
    {
     "name": "stdout",
     "output_type": "stream",
     "text": [
      "The Max temperature on nice days was 114 F 😎\n"
     ]
    }
   ],
   "source": [
    "print(\"The Max temperature on nice days was %i F 😎\" % np.max(nice_days))"
   ]
  },
  {
   "cell_type": "code",
   "execution_count": 168,
   "metadata": {},
   "outputs": [
    {
     "name": "stdout",
     "output_type": "stream",
     "text": [
      "The Min temperature on nice days was 71 F 🌥\n"
     ]
    }
   ],
   "source": [
    "print(\"The Min temperature on nice days was %i F 🌥\" % np.min(nice_days))"
   ]
  },
  {
   "cell_type": "markdown",
   "metadata": {},
   "source": [
    "You do not need to create these computation and assign them to a new variable, instead you can pass them in to the array in question the same way you would index it. Let's look at an example together."
   ]
  },
  {
   "cell_type": "code",
   "execution_count": 169,
   "metadata": {},
   "outputs": [
    {
     "data": {
      "text/plain": [
       "array([ 42,  51,  55,  61,  -1, -16,  28,  65,  76,  -1,  23,  12,  37,\n",
       "        -7,  -6,   9, -30,  52,  -9,  -7,  67, -29,  23,  48,  32,  21,\n",
       "       -10,  25,  40,  42,  26,  45,  31,  62, -21,  78, -20,  71,  42,\n",
       "        75,  54,  34,  -9,  47,  23,  48,  -4,  27,  21,  22,  36,  32,\n",
       "        31,  14,  65,  14, -17,   2, -13,  64,  56,  26,  68, -13,  -1,\n",
       "        45,  18,  25,  34, -20,  37,  23, -15,  74,  10,  23,  44,  75,\n",
       "         4,  38,  26,  62,  12,  75,  53, -21,   2,  14,  52, -17,  43,\n",
       "        -1,  43,  14,  59, -18,  14, -15,  75,  22, -26,  61,  54,  67,\n",
       "        18, -20,   9,  58,  41,  75,  12,  49, -19, -15,  61,  62, -12,\n",
       "       -22,   4,  -9,  18,  55,  69,  32,  21,  -7,  36,  13,  61, -16,\n",
       "        30, -25,  57,  26,  23,  35,  51,  27,  68, -18, -14,  -8,  16,\n",
       "        -6, -19,   2,  56,  48, -18, -11,  64,  -8,  24,   1,  -5,  33,\n",
       "        39,  71,  63,  43, -10,  34,  39,   9,  -2,  25,  14, -26,  70,\n",
       "        13,  53,  17, -11, -14,  57,  10,  74,  79, -12, -28,  72,  33,\n",
       "        59,   0, -20, -15,  70,  -2,  32,  53,  19,  -7,  57,   6,  -8,\n",
       "        29,  52, -12,  72,  63,  67, -15, -10, -13,  33,  51,  -4,  16,\n",
       "        18,  -5,  79,  67, -16,  69,  37,  74,  52,  50,  16,  46,  62,\n",
       "       -20,  47,  31,  30,  36,   1, -19,  14,  50, -28,  51,  33,  -7,\n",
       "        31,  74, -20,  69,  65,  11,  26,  15,  49,  -5,  15,   9,  38,\n",
       "       -24, -25,  16,  68,  34,  63,  16,  14,  18,  52,  16,  -8,  60,\n",
       "        25, -28,  36,   5,  10, -26, -12, -11,  38, -29,   1,   0,  50,\n",
       "        21,  50,  59,   8,  54,  51,  35, -10,  55, -10,  20,  62,  56,\n",
       "        61,  -9], dtype=int8)"
      ]
     },
     "execution_count": 169,
     "metadata": {},
     "output_type": "execute_result"
    }
   ],
   "source": [
    "year_temp[year_temp < 80]"
   ]
  },
  {
   "cell_type": "markdown",
   "metadata": {},
   "source": [
    "We can also combine multiple logical evaluations and pass them as a mask to our arrays. For example, imagine we are only interested in the days where the temperature was less than 80 and greater than 50. If so, we could wrap our local comparisons around paretheses and pass the `&` object in between the two for our mask."
   ]
  },
  {
   "cell_type": "code",
   "execution_count": 171,
   "metadata": {},
   "outputs": [
    {
     "data": {
      "text/plain": [
       "array([51, 55, 61, 65, 76, 52, 67, 62, 78, 71, 75, 54, 65, 64, 56, 68, 74,\n",
       "       75, 62, 75, 53, 52, 59, 75, 61, 54, 67, 58, 75, 61, 62, 55, 69, 61,\n",
       "       57, 51, 68, 56, 64, 71, 63, 70, 53, 57, 74, 79, 72, 59, 70, 53, 57,\n",
       "       52, 72, 63, 67, 51, 79, 67, 69, 74, 52, 62, 51, 74, 69, 65, 68, 63,\n",
       "       52, 60, 59, 54, 51, 55, 62, 56, 61], dtype=int8)"
      ]
     },
     "execution_count": 171,
     "metadata": {},
     "output_type": "execute_result"
    }
   ],
   "source": [
    "year_temp[(year_temp < 80) & (year_temp > 50)]"
   ]
  },
  {
   "cell_type": "markdown",
   "metadata": {},
   "source": [
    "Lastly, we could create a matrix resembling the days and months for the 360 days (data points) we have in our array, and use one of the many numpy aggregation functions to understand what happend in any given months.\n",
    "\n",
    "First let's reshape this array into a matrix with 30 rows for the days and 12 columns for the months."
   ]
  },
  {
   "cell_type": "code",
   "execution_count": 172,
   "metadata": {
    "scrolled": true
   },
   "outputs": [
    {
     "data": {
      "text/plain": [
       "array([[110,  42,  51,  55,  61,  81,  -1, -16,  28,  65,  76,  -1],\n",
       "       [ 23,  12,  37,  -7,  -6, 104,   9,  89, -30, 103,  52,  97],\n",
       "       [ -9,  -7,  67, -29,  84,  23,  48, 101,  32,  89, 106,  21],\n",
       "       [-10,  84,  25,  40,  81,  42,  26,  45, 107,  31,  62, -21],\n",
       "       [ 78, -20,  71,  93,  42, 111,  75, 103,  54,  34,  -9,  47],\n",
       "       [ 23,  48,  -4,  27,  21,  22, 108,  36, 101,  32,  31,  14],\n",
       "       [ 65,  14, -17,   2, -13,  64,  56,  26,  81,  92,  68, -13],\n",
       "       [ -1,  45,  18,  25,  34,  96, -20,  37,  23, -15,  74,  10],\n",
       "       [ 23,  44,  75,   4,  38,  26,  62,  12, 107,  75, 106,  53],\n",
       "       [-21,   2,  14,  52, 107, -17,  43,  -1,  43,  14,  59,  91],\n",
       "       [-18,  14, -15, 112,  75,  22, -26, 112,  61,  54,  67,  18],\n",
       "       [ 96, -20,   9,  82,  58,  41,  95,  75,  83,  12,  49,  97],\n",
       "       [-19, 110, -15,  61,  62, -12, -22,   4,  -9,  94,  18,  55],\n",
       "       [ 81,  69,  32,  21,  -7,  36,  13,  80,  61, -16,  30, 107],\n",
       "       [-25, 111,  57,  26,  81,  23,  35,  84,  51,  27,  93,  68],\n",
       "       [-18, -14,  -8,  94,  16,  -6, -19,   2,  56, 105,  48, -18],\n",
       "       [-11,  64, 110,  -8,  24,   1,  88,  -5,  33,  39,  71,  63],\n",
       "       [ 43, -10,  99,  34,  39,   9,  -2,  25,  14, -26,  70,  97],\n",
       "       [ 83,  13,  95,  53,  17, -11, -14, 102,  57,  10,  74,  79],\n",
       "       [-12, -28,  72,  33,  59,   0, -20, -15,  70,  -2,  32,  95],\n",
       "       [ 53,  80,  19,  -7,  57,   6,  94,  -8,  97,  29,  52, -12],\n",
       "       [ 72,  63,  67, -15, -10, -13, 101,  33,  51,  -4,  16,  18],\n",
       "       [ -5,  79,  67, -16,  83,  69,  37,  74,  52,  50,  16,  82],\n",
       "       [ 46,  62, -20,  47,  31,  30,  36,  92,  85, 112, 113,   1],\n",
       "       [109, -19,  14,  50,  81, -28,  51, 107, 114,  33,  -7,  31],\n",
       "       [ 74, -20, 100,  69,  65,  11,  26,  15,  49,  -5,  15,   9],\n",
       "       [ 38, -24, -25,  16,  91, 105,  68,  34,  63,  16,  14,  18],\n",
       "       [ 52,  16,  -8,  60,  25, -28,  36,   5,  10, -26, -12,  84],\n",
       "       [-11,  38, -29,   1,   0,  50,  21,  50,  59,   8,  54,  51],\n",
       "       [ 35, -10,  55,  91, -10,  20,  62, 107, 111,  56,  61,  -9]],\n",
       "      dtype=int8)"
      ]
     },
     "execution_count": 172,
     "metadata": {},
     "output_type": "execute_result"
    }
   ],
   "source": [
    "matrix_year = year_temp.reshape(30, 12).copy()\n",
    "matrix_year"
   ]
  },
  {
   "cell_type": "markdown",
   "metadata": {},
   "source": [
    "The next step is to create our mask. We are interested in nice days that are not too hot but also not too cold (e.g. not hotter than 100 degrees but also not colder than 70)."
   ]
  },
  {
   "cell_type": "code",
   "execution_count": 173,
   "metadata": {
    "scrolled": true
   },
   "outputs": [
    {
     "data": {
      "text/plain": [
       "array([[False, False, False, False, False,  True, False, False, False,\n",
       "        False,  True, False],\n",
       "       [False, False, False, False, False, False, False,  True, False,\n",
       "        False, False,  True],\n",
       "       [False, False, False, False,  True, False, False, False, False,\n",
       "         True, False, False],\n",
       "       [False,  True, False, False,  True, False, False, False, False,\n",
       "        False, False, False],\n",
       "       [ True, False,  True,  True, False, False,  True, False, False,\n",
       "        False, False, False],\n",
       "       [False, False, False, False, False, False, False, False, False,\n",
       "        False, False, False],\n",
       "       [False, False, False, False, False, False, False, False,  True,\n",
       "         True, False, False],\n",
       "       [False, False, False, False, False,  True, False, False, False,\n",
       "        False,  True, False],\n",
       "       [False, False,  True, False, False, False, False, False, False,\n",
       "         True, False, False],\n",
       "       [False, False, False, False, False, False, False, False, False,\n",
       "        False, False,  True],\n",
       "       [False, False, False, False,  True, False, False, False, False,\n",
       "        False, False, False],\n",
       "       [ True, False, False,  True, False, False,  True,  True,  True,\n",
       "        False, False,  True],\n",
       "       [False, False, False, False, False, False, False, False, False,\n",
       "         True, False, False],\n",
       "       [ True, False, False, False, False, False, False,  True, False,\n",
       "        False, False, False],\n",
       "       [False, False, False, False,  True, False, False,  True, False,\n",
       "        False,  True, False],\n",
       "       [False, False, False,  True, False, False, False, False, False,\n",
       "        False, False, False],\n",
       "       [False, False, False, False, False, False,  True, False, False,\n",
       "        False,  True, False],\n",
       "       [False, False,  True, False, False, False, False, False, False,\n",
       "        False, False,  True],\n",
       "       [ True, False,  True, False, False, False, False, False, False,\n",
       "        False,  True,  True],\n",
       "       [False, False,  True, False, False, False, False, False, False,\n",
       "        False, False,  True],\n",
       "       [False,  True, False, False, False, False,  True, False,  True,\n",
       "        False, False, False],\n",
       "       [ True, False, False, False, False, False, False, False, False,\n",
       "        False, False, False],\n",
       "       [False,  True, False, False,  True, False, False,  True, False,\n",
       "        False, False,  True],\n",
       "       [False, False, False, False, False, False, False,  True,  True,\n",
       "        False, False, False],\n",
       "       [False, False, False, False,  True, False, False, False, False,\n",
       "        False, False, False],\n",
       "       [ True, False, False, False, False, False, False, False, False,\n",
       "        False, False, False],\n",
       "       [False, False, False, False,  True, False, False, False, False,\n",
       "        False, False, False],\n",
       "       [False, False, False, False, False, False, False, False, False,\n",
       "        False, False,  True],\n",
       "       [False, False, False, False, False, False, False, False, False,\n",
       "        False, False, False],\n",
       "       [False, False, False,  True, False, False, False, False, False,\n",
       "        False, False, False]])"
      ]
     },
     "execution_count": 173,
     "metadata": {},
     "output_type": "execute_result"
    }
   ],
   "source": [
    "good_days = (matrix_year > 70) & (matrix_year < 100)\n",
    "good_days"
   ]
  },
  {
   "cell_type": "markdown",
   "metadata": {},
   "source": [
    "Lastly, we will use the `np.sum(matrix, axis=0)` function and pass the axis option so tell numpy that we want to operation to passed column-wise and not row-wise. That way we can count how many days per month throughout the year were within are criteria."
   ]
  },
  {
   "cell_type": "code",
   "execution_count": 174,
   "metadata": {},
   "outputs": [
    {
     "data": {
      "text/plain": [
       "array([6, 3, 5, 4, 7, 2, 4, 6, 4, 4, 5, 8])"
      ]
     },
     "execution_count": 174,
     "metadata": {},
     "output_type": "execute_result"
    }
   ],
   "source": [
    "np.sum(good_days, axis=0)"
   ]
  },
  {
   "cell_type": "markdown",
   "metadata": {},
   "source": [
    "There are many other cool tricks you can do with with masking, and we will explore those as we progress throghout the course.\n",
    "\n",
    "Congratulations you are more and more resembling a full-fledged data analyst."
   ]
  },
  {
   "cell_type": "markdown",
   "metadata": {},
   "source": [
    "# 4. More on Control Flow"
   ]
  },
  {
   "cell_type": "markdown",
   "metadata": {},
   "source": [
    "In the last lesson we learned the very basics of the three most essential part of programming that allow us to deal with conditions, repetitions, and afficiency/fluency with our code. In this section we will cover the same three topics again with an extra hint of complexity and a variation of for loops unique to Python, list comprehensions.\n",
    "\n",
    "1. Conditional statements\n",
    "2. Functions\n",
    "3. Loops\n",
    "4. List Comprehensions"
   ]
  },
  {
   "cell_type": "markdown",
   "metadata": {},
   "source": [
    "# 4.1 Conditional Statements"
   ]
  },
  {
   "cell_type": "markdown",
   "metadata": {},
   "source": [
    "Conditionals statements evaluate argument and search for the truth for us (very poetic, yes). Unless a statement we pass after the if evaluates to `False`, has a `0`, or is an explicit `False`, everything after the `if` will always try to evaluate to `True`. Every `if` statement initiation in python needs to end with a `:` before proceeding to the next line where the statement will do something.\n",
    "\n",
    "```python\n",
    "if something_true:\n",
    "```\n",
    "\n",
    "The next part is the proceedure we will like to see happening.\n",
    "\n",
    "```python\n",
    "if something_true:\n",
    "    print(\"do something cool\")\n",
    "```"
   ]
  },
  {
   "cell_type": "code",
   "execution_count": 175,
   "metadata": {},
   "outputs": [
    {
     "name": "stdout",
     "output_type": "stream",
     "text": [
      "this works because it is True\n"
     ]
    }
   ],
   "source": [
    "if 2 + 2 == 4:\n",
    "    print(\"this works because it is True\")"
   ]
  },
  {
   "cell_type": "markdown",
   "metadata": {},
   "source": [
    "The defeult action if our statement end up being `False` is to do nothing. We can provide our statement with a default action of our choosing though by using an `else` clause."
   ]
  },
  {
   "cell_type": "code",
   "execution_count": 176,
   "metadata": {},
   "outputs": [
    {
     "name": "stdout",
     "output_type": "stream",
     "text": [
      "this does not work because it is False\n"
     ]
    }
   ],
   "source": [
    "if 2 + 2 == 5:\n",
    "    print(\"this works because it is True\")\n",
    "else:\n",
    "    print(\"this does not work because it is False\")"
   ]
  },
  {
   "cell_type": "markdown",
   "metadata": {},
   "source": [
    "The in-between arguments of our wanted condition and our default action are additional parameters that can help us control the flow of our statements. They are a combination of the `if` and `else` clauses but differ in that they cannot start like the `if`.\n",
    "\n",
    "\n",
    "```python\n",
    "if something_true:\n",
    "    print(\"do something cool\")\n",
    "elif could_be_this:\n",
    "    print(\"one possibility\")\n",
    "elif or_this:\n",
    "    print(\"another possibility\")\n",
    "else:\n",
    "    print(\"false alarm\")\n",
    "```"
   ]
  },
  {
   "cell_type": "markdown",
   "metadata": {},
   "source": [
    "### Live Example 1"
   ]
  },
  {
   "cell_type": "code",
   "execution_count": 177,
   "metadata": {},
   "outputs": [
    {
     "name": "stdout",
     "output_type": "stream",
     "text": [
      "I've got this month covered too\n"
     ]
    }
   ],
   "source": [
    "months = ['January', 'March', 'May', 'July']\n",
    "\n",
    "months_count = 0\n",
    "\n",
    "if 'December' in months:\n",
    "    print(\"I've got this month covered\")\n",
    "elif 'November' in months:\n",
    "    print(\"I've got this month covered too\")\n",
    "    months_count += 1\n",
    "elif 'April' in months:\n",
    "    print(\"I've got this month covered too\")\n",
    "    months_count += 1\n",
    "elif 'June' in months:\n",
    "    print(\"I've got this month covered too\")\n",
    "    months_count += 1\n",
    "elif 'October' in months:\n",
    "    print(\"I've got this month covered too\")\n",
    "    months_count += 1\n",
    "elif 'March' in months:\n",
    "    print(\"I've got this month covered too\")\n",
    "    months_count += 1\n",
    "else:\n",
    "    print(\"Sorry I could not find anything\")"
   ]
  },
  {
   "cell_type": "code",
   "execution_count": 178,
   "metadata": {},
   "outputs": [
    {
     "data": {
      "text/plain": [
       "1"
      ]
     },
     "execution_count": 178,
     "metadata": {},
     "output_type": "execute_result"
    }
   ],
   "source": [
    "months_count"
   ]
  },
  {
   "cell_type": "markdown",
   "metadata": {},
   "source": [
    "### Live Example 2"
   ]
  },
  {
   "cell_type": "code",
   "execution_count": 179,
   "metadata": {},
   "outputs": [
    {
     "data": {
      "text/plain": [
       "[0, 1, 2, 3, 4, 5, 6, 7, 8, 9]"
      ]
     },
     "execution_count": 179,
     "metadata": {},
     "output_type": "execute_result"
    }
   ],
   "source": [
    "random_numbers = list(range(0,100))\n",
    "random_numbers[:10]"
   ]
  },
  {
   "cell_type": "code",
   "execution_count": 180,
   "metadata": {},
   "outputs": [
    {
     "name": "stdout",
     "output_type": "stream",
     "text": [
      "This is an odd number!\n"
     ]
    }
   ],
   "source": [
    "if random_numbers [1] % 2 == 0:\n",
    "    print(\"This is an even number!\")\n",
    "else:\n",
    "    print(\"This is an odd number!\")"
   ]
  },
  {
   "cell_type": "code",
   "execution_count": 181,
   "metadata": {},
   "outputs": [
    {
     "data": {
      "text/plain": [
       "array([0, 1, 2, 3, 4, 5, 6, 7, 8, 9])"
      ]
     },
     "execution_count": 181,
     "metadata": {},
     "output_type": "execute_result"
    }
   ],
   "source": [
    "random_numbers = np.arange(100)\n",
    "random_numbers[:10]"
   ]
  },
  {
   "cell_type": "code",
   "execution_count": 182,
   "metadata": {},
   "outputs": [
    {
     "name": "stdout",
     "output_type": "stream",
     "text": [
      "[ 0  2  4  6  8 10 12 14 16 18 20 22 24 26 28 30 32 34 36 38 40 42 44 46\n",
      " 48 50 52 54 56 58 60 62 64 66 68 70 72 74 76 78 80 82 84 86 88 90 92 94\n",
      " 96 98]\n"
     ]
    }
   ],
   "source": [
    "if np.any(random_numbers % 2 == 0):\n",
    "    print(random_numbers[random_numbers % 2 ==0])\n",
    "else:\n",
    "    print(\"This is an odd number!\")"
   ]
  },
  {
   "cell_type": "markdown",
   "metadata": {},
   "source": [
    "### Live Example 3"
   ]
  },
  {
   "cell_type": "markdown",
   "metadata": {},
   "source": [
    "Things that evaluate to False.\n",
    "\n",
    "- 0\n",
    "- None\n",
    "- [] # empty list\n",
    "- {} # empty set"
   ]
  },
  {
   "cell_type": "code",
   "execution_count": 184,
   "metadata": {},
   "outputs": [
    {
     "name": "stdout",
     "output_type": "stream",
     "text": [
      "This is False!\n"
     ]
    }
   ],
   "source": [
    "my_condition = 0\n",
    "\n",
    "if my_condition:\n",
    "    print(\"This is True!\")\n",
    "else:\n",
    "    print(\"This is False!\")"
   ]
  },
  {
   "cell_type": "code",
   "execution_count": 185,
   "metadata": {
    "scrolled": true
   },
   "outputs": [
    {
     "name": "stdout",
     "output_type": "stream",
     "text": [
      "Help on float object:\n",
      "\n",
      "class float(object)\n",
      " |  float(x=0, /)\n",
      " |  \n",
      " |  Convert a string or number to a floating point number, if possible.\n",
      " |  \n",
      " |  Methods defined here:\n",
      " |  \n",
      " |  __abs__(self, /)\n",
      " |      abs(self)\n",
      " |  \n",
      " |  __add__(self, value, /)\n",
      " |      Return self+value.\n",
      " |  \n",
      " |  __bool__(self, /)\n",
      " |      self != 0\n",
      " |  \n",
      " |  __divmod__(self, value, /)\n",
      " |      Return divmod(self, value).\n",
      " |  \n",
      " |  __eq__(self, value, /)\n",
      " |      Return self==value.\n",
      " |  \n",
      " |  __float__(self, /)\n",
      " |      float(self)\n",
      " |  \n",
      " |  __floordiv__(self, value, /)\n",
      " |      Return self//value.\n",
      " |  \n",
      " |  __format__(self, format_spec, /)\n",
      " |      Formats the float according to format_spec.\n",
      " |  \n",
      " |  __ge__(self, value, /)\n",
      " |      Return self>=value.\n",
      " |  \n",
      " |  __getattribute__(self, name, /)\n",
      " |      Return getattr(self, name).\n",
      " |  \n",
      " |  __getnewargs__(self, /)\n",
      " |  \n",
      " |  __gt__(self, value, /)\n",
      " |      Return self>value.\n",
      " |  \n",
      " |  __hash__(self, /)\n",
      " |      Return hash(self).\n",
      " |  \n",
      " |  __int__(self, /)\n",
      " |      int(self)\n",
      " |  \n",
      " |  __le__(self, value, /)\n",
      " |      Return self<=value.\n",
      " |  \n",
      " |  __lt__(self, value, /)\n",
      " |      Return self<value.\n",
      " |  \n",
      " |  __mod__(self, value, /)\n",
      " |      Return self%value.\n",
      " |  \n",
      " |  __mul__(self, value, /)\n",
      " |      Return self*value.\n",
      " |  \n",
      " |  __ne__(self, value, /)\n",
      " |      Return self!=value.\n",
      " |  \n",
      " |  __neg__(self, /)\n",
      " |      -self\n",
      " |  \n",
      " |  __pos__(self, /)\n",
      " |      +self\n",
      " |  \n",
      " |  __pow__(self, value, mod=None, /)\n",
      " |      Return pow(self, value, mod).\n",
      " |  \n",
      " |  __radd__(self, value, /)\n",
      " |      Return value+self.\n",
      " |  \n",
      " |  __rdivmod__(self, value, /)\n",
      " |      Return divmod(value, self).\n",
      " |  \n",
      " |  __repr__(self, /)\n",
      " |      Return repr(self).\n",
      " |  \n",
      " |  __rfloordiv__(self, value, /)\n",
      " |      Return value//self.\n",
      " |  \n",
      " |  __rmod__(self, value, /)\n",
      " |      Return value%self.\n",
      " |  \n",
      " |  __rmul__(self, value, /)\n",
      " |      Return value*self.\n",
      " |  \n",
      " |  __round__(self, ndigits=None, /)\n",
      " |      Return the Integral closest to x, rounding half toward even.\n",
      " |      \n",
      " |      When an argument is passed, work like built-in round(x, ndigits).\n",
      " |  \n",
      " |  __rpow__(self, value, mod=None, /)\n",
      " |      Return pow(value, self, mod).\n",
      " |  \n",
      " |  __rsub__(self, value, /)\n",
      " |      Return value-self.\n",
      " |  \n",
      " |  __rtruediv__(self, value, /)\n",
      " |      Return value/self.\n",
      " |  \n",
      " |  __str__(self, /)\n",
      " |      Return str(self).\n",
      " |  \n",
      " |  __sub__(self, value, /)\n",
      " |      Return self-value.\n",
      " |  \n",
      " |  __truediv__(self, value, /)\n",
      " |      Return self/value.\n",
      " |  \n",
      " |  __trunc__(self, /)\n",
      " |      Return the Integral closest to x between 0 and x.\n",
      " |  \n",
      " |  as_integer_ratio(self, /)\n",
      " |      Return integer ratio.\n",
      " |      \n",
      " |      Return a pair of integers, whose ratio is exactly equal to the original float\n",
      " |      and with a positive denominator.\n",
      " |      \n",
      " |      Raise OverflowError on infinities and a ValueError on NaNs.\n",
      " |      \n",
      " |      >>> (10.0).as_integer_ratio()\n",
      " |      (10, 1)\n",
      " |      >>> (0.0).as_integer_ratio()\n",
      " |      (0, 1)\n",
      " |      >>> (-.25).as_integer_ratio()\n",
      " |      (-1, 4)\n",
      " |  \n",
      " |  conjugate(self, /)\n",
      " |      Return self, the complex conjugate of any float.\n",
      " |  \n",
      " |  hex(self, /)\n",
      " |      Return a hexadecimal representation of a floating-point number.\n",
      " |      \n",
      " |      >>> (-0.1).hex()\n",
      " |      '-0x1.999999999999ap-4'\n",
      " |      >>> 3.14159.hex()\n",
      " |      '0x1.921f9f01b866ep+1'\n",
      " |  \n",
      " |  is_integer(self, /)\n",
      " |      Return True if the float is an integer.\n",
      " |  \n",
      " |  ----------------------------------------------------------------------\n",
      " |  Class methods defined here:\n",
      " |  \n",
      " |  __getformat__(typestr, /) from builtins.type\n",
      " |      You probably don't want to use this function.\n",
      " |      \n",
      " |        typestr\n",
      " |          Must be 'double' or 'float'.\n",
      " |      \n",
      " |      It exists mainly to be used in Python's test suite.\n",
      " |      \n",
      " |      This function returns whichever of 'unknown', 'IEEE, big-endian' or 'IEEE,\n",
      " |      little-endian' best describes the format of floating point numbers used by the\n",
      " |      C type named by typestr.\n",
      " |  \n",
      " |  __set_format__(typestr, fmt, /) from builtins.type\n",
      " |      You probably don't want to use this function.\n",
      " |      \n",
      " |        typestr\n",
      " |          Must be 'double' or 'float'.\n",
      " |        fmt\n",
      " |          Must be one of 'unknown', 'IEEE, big-endian' or 'IEEE, little-endian',\n",
      " |          and in addition can only be one of the latter two if it appears to\n",
      " |          match the underlying C reality.\n",
      " |      \n",
      " |      It exists mainly to be used in Python's test suite.\n",
      " |      \n",
      " |      Override the automatic determination of C-level floating point type.\n",
      " |      This affects how floats are converted to and from binary strings.\n",
      " |  \n",
      " |  fromhex(string, /) from builtins.type\n",
      " |      Create a floating-point number from a hexadecimal string.\n",
      " |      \n",
      " |      >>> float.fromhex('0x1.ffffp10')\n",
      " |      2047.984375\n",
      " |      >>> float.fromhex('-0x1p-1074')\n",
      " |      -5e-324\n",
      " |  \n",
      " |  ----------------------------------------------------------------------\n",
      " |  Static methods defined here:\n",
      " |  \n",
      " |  __new__(*args, **kwargs) from builtins.type\n",
      " |      Create and return a new object.  See help(type) for accurate signature.\n",
      " |  \n",
      " |  ----------------------------------------------------------------------\n",
      " |  Data descriptors defined here:\n",
      " |  \n",
      " |  imag\n",
      " |      the imaginary part of a complex number\n",
      " |  \n",
      " |  real\n",
      " |      the real part of a complex number\n",
      "\n"
     ]
    }
   ],
   "source": [
    "help(np.nan) # aka. not a number, but a float"
   ]
  },
  {
   "cell_type": "markdown",
   "metadata": {},
   "source": [
    "# 4.2 Functions"
   ]
  },
  {
   "cell_type": "markdown",
   "metadata": {},
   "source": [
    "Functions help us avoid repetitions by wrapping our code into a regular Python function like the `print()` but this time of our making.\n",
    "\n",
    "Functions:  \n",
    "- Need to be defined with\n",
    "```python \n",
    "def\n",
    "```\n",
    "- Can have no arguments and still work \n",
    "```python\n",
    "def function():\n",
    "    pass\n",
    "```\n",
    "- Can also have a plethora of arguments and still work\n",
    "```python\n",
    "def function(one, two, three, many, more):\n",
    "    pass\n",
    "```\n",
    "- Need parentheses, most of the times, to work after they have been defined\n",
    "- `pass` means the function will do nothing\n",
    "\n",
    "\n",
    "Let's go over more examples."
   ]
  },
  {
   "cell_type": "code",
   "execution_count": 186,
   "metadata": {},
   "outputs": [],
   "source": [
    "# Let's define a function that takes in a number and returns that number to the cube power\n",
    "\n",
    "def cube_power(number):\n",
    "    temp_var = number ** 3\n",
    "    return temp_var"
   ]
  },
  {
   "cell_type": "code",
   "execution_count": 187,
   "metadata": {},
   "outputs": [
    {
     "name": "stdout",
     "output_type": "stream",
     "text": [
      "125\n"
     ]
    }
   ],
   "source": [
    "print(cube_power(5))"
   ]
  },
  {
   "cell_type": "code",
   "execution_count": 188,
   "metadata": {},
   "outputs": [],
   "source": [
    "# functions can have default values that only changed when needed\n",
    "\n",
    "def person_age_finder(age, name=\"Person\"):\n",
    "    print(f\"Hi {name}, you are {age} years old!\")"
   ]
  },
  {
   "cell_type": "code",
   "execution_count": 189,
   "metadata": {},
   "outputs": [
    {
     "name": "stdout",
     "output_type": "stream",
     "text": [
      "Hi Person, you are 28 years old!\n"
     ]
    }
   ],
   "source": [
    "person_age_finder(28)"
   ]
  },
  {
   "cell_type": "code",
   "execution_count": 190,
   "metadata": {},
   "outputs": [
    {
     "name": "stdout",
     "output_type": "stream",
     "text": [
      "Hi Ramon, you are 28 years old!\n"
     ]
    }
   ],
   "source": [
    "person_age_finder(28, \"Ramon\")"
   ]
  },
  {
   "cell_type": "markdown",
   "metadata": {},
   "source": [
    "### Live Example 1"
   ]
  },
  {
   "cell_type": "code",
   "execution_count": 191,
   "metadata": {},
   "outputs": [],
   "source": [
    "def college_major (student, major=\"undecided\", university=\"unknown\"):\n",
    "    print (\"{} is studying {}, at {} university\".format(student, major, university))"
   ]
  },
  {
   "cell_type": "code",
   "execution_count": 192,
   "metadata": {},
   "outputs": [
    {
     "name": "stdout",
     "output_type": "stream",
     "text": [
      "Ramon is studying economics, at UMC university\n"
     ]
    }
   ],
   "source": [
    "college_major(major=\"economics\",student=\"Ramon\", university=\"UMC\")"
   ]
  },
  {
   "cell_type": "markdown",
   "metadata": {},
   "source": [
    "### Live Example 2"
   ]
  },
  {
   "cell_type": "code",
   "execution_count": null,
   "metadata": {},
   "outputs": [],
   "source": []
  },
  {
   "cell_type": "code",
   "execution_count": null,
   "metadata": {},
   "outputs": [],
   "source": []
  },
  {
   "cell_type": "markdown",
   "metadata": {},
   "source": [
    "# 4.2 Loops"
   ]
  },
  {
   "cell_type": "markdown",
   "metadata": {},
   "source": [
    "Loops are the masters of repetition. If we need to do a task multiple times, chances are that loops will help us do that in many different ways.\n",
    "\n",
    "Loops:\n",
    "\n",
    "- begin with a `for` or `while` constructor, although so far we've only focused on `for`\n",
    "- use after the `for` a next argument which is a random temporary `variable` that it will use to iterate over the object we want to iterate over\n",
    "- have an `in` argument use to point the temporary variable to our list of things or objects\n",
    "- the object we iterate over can be a list, a string, a dictionary, a set, a tuple, an iterable, and a few other objects in Python\n",
    "- the construction of the loop end with `:`\n",
    "- and what follows are the instructions we will like to see repeatedly"
   ]
  },
  {
   "cell_type": "code",
   "execution_count": 203,
   "metadata": {},
   "outputs": [],
   "source": [
    "list_names = ['candy', 'loren', 'xavier', 'jackson', 'tyrell', 'sam']"
   ]
  },
  {
   "cell_type": "code",
   "execution_count": 204,
   "metadata": {},
   "outputs": [
    {
     "name": "stdout",
     "output_type": "stream",
     "text": [
      "Hi your name is candy\n",
      "Hi your name is loren\n",
      "Hi your name is xavier\n",
      "Hi your name is jackson\n",
      "Hi your name is tyrell\n",
      "Hi your name is sam\n"
     ]
    }
   ],
   "source": [
    "for name in list_names:\n",
    "    print(f\"Hi your name is {name}\")"
   ]
  },
  {
   "cell_type": "code",
   "execution_count": 205,
   "metadata": {},
   "outputs": [],
   "source": [
    "age = [25, 35, 32, 21, 19, 26]"
   ]
  },
  {
   "cell_type": "code",
   "execution_count": 206,
   "metadata": {},
   "outputs": [
    {
     "name": "stdout",
     "output_type": "stream",
     "text": [
      "Hi your name is candy and you are 25 years old!\n",
      "Hi your name is loren and you are 35 years old!\n",
      "Hi your name is xavier and you are 32 years old!\n",
      "Hi your name is jackson and you are 21 years old!\n",
      "Hi your name is tyrell and you are 19 years old!\n",
      "Hi your name is sam and you are 26 years old!\n"
     ]
    }
   ],
   "source": [
    "for age, name in zip(age, list_names):\n",
    "    print(f\"Hi your name is {name} and you are {age} years old!\")"
   ]
  },
  {
   "cell_type": "markdown",
   "metadata": {},
   "source": [
    "### Live Example 1"
   ]
  },
  {
   "cell_type": "code",
   "execution_count": 207,
   "metadata": {},
   "outputs": [],
   "source": [
    "def greetings(name,age):\n",
    "    print(f\"Hi your name is {name} and you are {age} years old!\")"
   ]
  },
  {
   "cell_type": "code",
   "execution_count": 209,
   "metadata": {},
   "outputs": [
    {
     "ename": "TypeError",
     "evalue": "cannot unpack non-iterable int object",
     "output_type": "error",
     "traceback": [
      "\u001b[1;31m---------------------------------------------------------------------------\u001b[0m",
      "\u001b[1;31mTypeError\u001b[0m                                 Traceback (most recent call last)",
      "\u001b[1;32m<ipython-input-209-2e127d1ca172>\u001b[0m in \u001b[0;36m<module>\u001b[1;34m\u001b[0m\n\u001b[1;32m----> 1\u001b[1;33m \u001b[1;32mfor\u001b[0m \u001b[0mage\u001b[0m\u001b[1;33m,\u001b[0m \u001b[0mname\u001b[0m \u001b[1;32min\u001b[0m \u001b[1;33m(\u001b[0m\u001b[0mage\u001b[0m\u001b[1;33m,\u001b[0m \u001b[0mlist_names\u001b[0m\u001b[1;33m)\u001b[0m\u001b[1;33m:\u001b[0m\u001b[1;33m\u001b[0m\u001b[1;33m\u001b[0m\u001b[0m\n\u001b[0m\u001b[0;32m      2\u001b[0m     \u001b[0mgreetings\u001b[0m\u001b[1;33m(\u001b[0m\u001b[0mname\u001b[0m\u001b[1;33m=\u001b[0m\u001b[0mname\u001b[0m\u001b[1;33m,\u001b[0m \u001b[0mage\u001b[0m\u001b[1;33m=\u001b[0m\u001b[0mage\u001b[0m\u001b[1;33m)\u001b[0m\u001b[1;33m\u001b[0m\u001b[1;33m\u001b[0m\u001b[0m\n",
      "\u001b[1;31mTypeError\u001b[0m: cannot unpack non-iterable int object"
     ]
    }
   ],
   "source": [
    "for age, name in zip(age, list_names):\n",
    "    greetings(name=name, age=age)"
   ]
  },
  {
   "cell_type": "markdown",
   "metadata": {},
   "source": [
    "### Live Example 2"
   ]
  },
  {
   "cell_type": "code",
   "execution_count": null,
   "metadata": {},
   "outputs": [],
   "source": []
  },
  {
   "cell_type": "code",
   "execution_count": null,
   "metadata": {},
   "outputs": [],
   "source": []
  },
  {
   "cell_type": "markdown",
   "metadata": {},
   "source": [
    "# 4.3 List Comprehension"
   ]
  },
  {
   "cell_type": "markdown",
   "metadata": {},
   "source": [
    "List comprehensions are loops cousins. They can do almost everything loops can do but their final output is always a list. They prove especially useful when we need a fast loop for prototyping and we don't want to go through construncting a loop from scratch.\n",
    "\n",
    "The main difference between list comprehensions and regular loops is that the action happens first. For example, if you want to add the number 1 to a range of integers, we would have `number + 1` at the begining of the list comprehension. If we wanted to make a list with all of the letters of a sentence in lower case, we would apply that `.lower()` function to our temporary variable at the start.\n",
    "\n",
    "The other thing you need to keep in mind is that list comprehensions need to be wrapped around brackets.\n",
    "\n",
    "```python\n",
    "[number + 1 for number in range(10)] # first example\n",
    "[letter.lower() for letter in \"HeLLO LISTS ComPREHENSIONS\"] # second example\n",
    "```"
   ]
  },
  {
   "cell_type": "code",
   "execution_count": 212,
   "metadata": {},
   "outputs": [
    {
     "name": "stdout",
     "output_type": "stream",
     "text": [
      "0\n",
      "2\n",
      "4\n",
      "6\n",
      "8\n",
      "10\n",
      "12\n",
      "14\n",
      "16\n",
      "18\n",
      "20\n",
      "22\n",
      "24\n",
      "26\n",
      "28\n"
     ]
    }
   ],
   "source": [
    "for number in range(15):\n",
    "    print(number * 2)"
   ]
  },
  {
   "cell_type": "code",
   "execution_count": 210,
   "metadata": {},
   "outputs": [
    {
     "data": {
      "text/plain": [
       "[0, 2, 4, 6, 8, 10, 12, 14, 16, 18, 20, 22, 24, 26, 28]"
      ]
     },
     "execution_count": 210,
     "metadata": {},
     "output_type": "execute_result"
    }
   ],
   "source": [
    "list_nums = [number * 2 for number in range(15)]\n",
    "list_nums"
   ]
  },
  {
   "cell_type": "code",
   "execution_count": 211,
   "metadata": {},
   "outputs": [
    {
     "data": {
      "text/plain": [
       "['t',\n",
       " 'h',\n",
       " 'i',\n",
       " 's',\n",
       " ' ',\n",
       " 'w',\n",
       " 'a',\n",
       " 's',\n",
       " ' ',\n",
       " 'a',\n",
       " 'n',\n",
       " ' ',\n",
       " 'u',\n",
       " 'p',\n",
       " 'p',\n",
       " 'e',\n",
       " 'r',\n",
       " ' ',\n",
       " 's',\n",
       " 't',\n",
       " 'r',\n",
       " 'i',\n",
       " 'n',\n",
       " 'g']"
      ]
     },
     "execution_count": 211,
     "metadata": {},
     "output_type": "execute_result"
    }
   ],
   "source": [
    "list_letters = [a.lower() for a in \"THIS WAS AN UPPER STRING\"]\n",
    "list_letters"
   ]
  },
  {
   "cell_type": "code",
   "execution_count": 213,
   "metadata": {},
   "outputs": [
    {
     "data": {
      "text/plain": [
       "'this was an upper string'"
      ]
     },
     "execution_count": 213,
     "metadata": {},
     "output_type": "execute_result"
    }
   ],
   "source": [
    "better_list_letters = ''.join([a.lower() for a in \"THIS WAS AN UPPER STRING\"])\n",
    "better_list_letters"
   ]
  },
  {
   "cell_type": "code",
   "execution_count": 214,
   "metadata": {},
   "outputs": [
    {
     "name": "stdout",
     "output_type": "stream",
     "text": [
      "<class 'list'>\n"
     ]
    }
   ],
   "source": [
    "print(type([a.lower() for a in \"THIS IS A STRING\"]))"
   ]
  },
  {
   "cell_type": "markdown",
   "metadata": {},
   "source": [
    "### Live Example 1"
   ]
  },
  {
   "cell_type": "code",
   "execution_count": null,
   "metadata": {},
   "outputs": [],
   "source": []
  },
  {
   "cell_type": "code",
   "execution_count": null,
   "metadata": {},
   "outputs": [],
   "source": []
  },
  {
   "cell_type": "markdown",
   "metadata": {},
   "source": [
    "### Live Example 2"
   ]
  },
  {
   "cell_type": "code",
   "execution_count": null,
   "metadata": {},
   "outputs": [],
   "source": []
  },
  {
   "cell_type": "code",
   "execution_count": null,
   "metadata": {},
   "outputs": [],
   "source": []
  },
  {
   "cell_type": "markdown",
   "metadata": {},
   "source": [
    "# 5. Summary"
   ]
  },
  {
   "cell_type": "markdown",
   "metadata": {},
   "source": [
    "You have learned a great deal today and should be proud of your accomplishments. Let's recap what we have seen thus far.\n",
    "\n",
    "1. Lists in Python can be treated as the arrays and matrices that will hold our data for us. The are extremely powerful and versatile data structures and they can be used in almost every aspect of the data analytics cycle that includes analysis.\n",
    "2. NumPy is a library of code built on top of the programming language C. This particular characteristic allows it to communicate with the hardware of our machines and run our computations very, very fast.\n",
    "3. When possible, use broadcasting instead of loop in order to optimise your code and time.\n",
    "4. Generating random data allows us to test models and functions very fast and numpy can help us very well with this. It has functions such as `np.ones`, `np.random.random`, `np.linspace`, and many more.\n",
    "5. Masking is a type of filtering method that allows us to have a closer look at our data. It is, in a way, an equivalent way of constructing if-else statements.\n",
    "6. List comprehensions are a type of for loop that gives us the ability to generate a list from repeated commands."
   ]
  },
  {
   "cell_type": "markdown",
   "metadata": {},
   "source": [
    "# 6. References"
   ]
  },
  {
   "cell_type": "markdown",
   "metadata": {},
   "source": [
    "Sweigart, Al. _Automate the Boring Stuff with Python: Practical Programming for Total Beginners_. No Starch Press, 2020.\n",
    "\n",
    "VanderPlas, Jake. _A Whirlwind Tour of Python_. O'Reilly, 2016.\n",
    "\n",
    "VanderPlas, Jake. _Python Data Science Handbook_. O'Reilly, 2017."
   ]
  },
  {
   "cell_type": "markdown",
   "metadata": {},
   "source": [
    "# 7. Feedback"
   ]
  },
  {
   "cell_type": "markdown",
   "metadata": {},
   "source": [
    "We would really appreciate it if you could please provide us with your feedback from this session by filling a couple of question.\n",
    "\n",
    "> ## [Survey](https://docs.google.com/forms/d/e/1FAIpQLScqAlXykQIeym3VwzO5KN8gicte7d2NCSc6T4SIWhRLb77bIg/viewform?usp=sf_link)"
   ]
  }
 ],
 "metadata": {
  "kernelspec": {
   "display_name": "Python 3",
   "language": "python",
   "name": "python3"
  },
  "language_info": {
   "codemirror_mode": {
    "name": "ipython",
    "version": 3
   },
   "file_extension": ".py",
   "mimetype": "text/x-python",
   "name": "python",
   "nbconvert_exporter": "python",
   "pygments_lexer": "ipython3",
   "version": "3.7.6"
  },
  "nteract": {
   "version": "0.22.4"
  }
 },
 "nbformat": 4,
 "nbformat_minor": 4
}
